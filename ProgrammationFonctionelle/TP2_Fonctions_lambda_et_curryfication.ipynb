{
 "cells": [
  {
   "cell_type": "markdown",
   "metadata": {},
   "source": [
    "# TP 2 "
   ]
  },
  {
   "cell_type": "markdown",
   "metadata": {},
   "source": [
    "## Fonctions pures"
   ]
  },
  {
   "cell_type": "markdown",
   "metadata": {},
   "source": [
    "## Récursivité"
   ]
  },
  {
   "cell_type": "markdown",
   "metadata": {},
   "source": [
    "La suite de Fibonacci, qui modélise la croissance de populations de couple de lapins au cours du temps est donnée par la récursivité suivante :\n",
    "\n",
    "$$\n",
    "\\left\\{\n",
    "\\begin{array}{l}\n",
    "F_0 = F_1 = 1 \\\\\n",
    "F_n = F_{n-1}+F_{n-2}\\\\\n",
    "\\end{array}\n",
    "\\right.\n",
    "$$\n",
    "\n",
    "### Ecrivez la fonction récursive `fibo(n:Int):Int` qui permet de calculer $F_n$"
   ]
  },
  {
   "cell_type": "code",
   "execution_count": 40,
   "metadata": {},
   "outputs": [
    {
     "name": "stdout",
     "output_type": "stream",
     "text": [
      "fibo(5) = 5\n",
      "fibo(10) = 55\n",
      "fibo(15) = 610\n"
     ]
    },
    {
     "data": {
      "text/plain": [
       "defined \u001b[32mfunction\u001b[39m \u001b[36mfibo\u001b[39m"
      ]
     },
     "execution_count": 40,
     "metadata": {},
     "output_type": "execute_result"
    }
   ],
   "source": [
    "def fibo(n:Int):Int=n match{\n",
    "    case 0|1=>n\n",
    "    case _=>fibo(n-1)+fibo(n-2)\n",
    "}\n",
    "\n",
    "printf(\"fibo(5) = %d\\n\",fibo(5))\n",
    "printf(\"fibo(10) = %d\\n\",fibo(10))\n",
    "printf(\"fibo(15) = %d\\n\",fibo(15))"
   ]
  },
  {
   "cell_type": "markdown",
   "metadata": {},
   "source": [
    "### Ecrire les appels déclenchés par `fibo(5)`"
   ]
  },
  {
   "cell_type": "code",
   "execution_count": 42,
   "metadata": {
    "inputHidden": false,
    "outputHidden": false
   },
   "outputs": [
    {
     "name": "stdout",
     "output_type": "stream",
     "text": [
      "Fibo(5) appelle fibo(4) & fibo(3)\n",
      "Fibo(4) appelle fibo(3) & fibo(2)\n",
      "Fibo(3) appelle fibo(2) & fibo(1)\n",
      "Fibo(2) appelle fibo(1) & fibo(0)\n",
      "Fibo(2) appelle fibo(1) & fibo(0)\n",
      "Fibo(3) appelle fibo(2) & fibo(1)\n",
      "Fibo(2) appelle fibo(1) & fibo(0)\n"
     ]
    },
    {
     "data": {
      "text/plain": [
       "defined \u001b[32mfunction\u001b[39m \u001b[36mfibo\u001b[39m\n",
       "\u001b[36mres41_1\u001b[39m: \u001b[32mInt\u001b[39m = \u001b[32m5\u001b[39m"
      ]
     },
     "execution_count": 42,
     "metadata": {},
     "output_type": "execute_result"
    }
   ],
   "source": [
    "def fibo(n:Int):Int=n match{\n",
    "    case 0|1=>n\n",
    "    case _=>{\n",
    "        val x=(n-1)\n",
    "        val y=(n-2)\n",
    "        printf(\"Fibo(%d) appelle fibo(%d) & fibo(%d)\\n\",n,x,y)\n",
    "        fibo(n-1)+fibo(n-2)\n",
    "    }\n",
    "}\n",
    "\n",
    "fibo(5)"
   ]
  },
  {
   "cell_type": "markdown",
   "metadata": {},
   "source": [
    "### En vous inspirant de l'exercice vu en TD, écrire `fibo()` sous une forme récursive terminale `fiboTail()`.      "
   ]
  },
  {
   "cell_type": "code",
   "execution_count": 38,
   "metadata": {},
   "outputs": [
    {
     "name": "stdout",
     "output_type": "stream",
     "text": [
      "fiboTail(5) = 5\n",
      "fiboTail(10) = 55\n",
      "fiboTail(15) = 610\n"
     ]
    },
    {
     "data": {
      "text/plain": [
       "defined \u001b[32mfunction\u001b[39m \u001b[36mfiboTail\u001b[39m"
      ]
     },
     "execution_count": 38,
     "metadata": {},
     "output_type": "execute_result"
    }
   ],
   "source": [
    "def fiboTail(n:Int,prev:Int=0,next:Int=1):Int=n match{\n",
    "    case 0=>prev\n",
    "    case _=>{\n",
    "        val nextprev=next+prev\n",
    "        val nMoins1=n-1\n",
    "        fiboTail(n-1,next,next+prev)\n",
    "    } \n",
    "}\n",
    "\n",
    "printf(\"fiboTail(5) = %d\\n\",fiboTail(5))\n",
    "printf(\"fiboTail(10) = %d\\n\",fiboTail(10))\n",
    "printf(\"fiboTail(15) = %d\\n\",fiboTail(15))"
   ]
  },
  {
   "cell_type": "markdown",
   "metadata": {},
   "source": [
    "## Ecrire les appels déclenchés par `fiboTail(5)`\n"
   ]
  },
  {
   "cell_type": "code",
   "execution_count": 39,
   "metadata": {},
   "outputs": [
    {
     "name": "stdout",
     "output_type": "stream",
     "text": [
      "FiboTail(5) appelle fiboTail(4, 1, 1)\n",
      "FiboTail(4) appelle fiboTail(3, 1, 2)\n",
      "FiboTail(3) appelle fiboTail(2, 2, 3)\n",
      "FiboTail(2) appelle fiboTail(1, 3, 5)\n",
      "FiboTail(1) appelle fiboTail(0, 5, 8)\n"
     ]
    },
    {
     "data": {
      "text/plain": [
       "defined \u001b[32mfunction\u001b[39m \u001b[36mfiboTail\u001b[39m\n",
       "\u001b[36mres38_1\u001b[39m: \u001b[32mInt\u001b[39m = \u001b[32m5\u001b[39m"
      ]
     },
     "execution_count": 39,
     "metadata": {},
     "output_type": "execute_result"
    }
   ],
   "source": [
    "def fiboTail(n:Int,prev:Int=0,next:Int=1):Int=n match{\n",
    "    case 0 =>prev\n",
    "    case _=>{\n",
    "        val nextprev=next+prev\n",
    "        val nMoins1=n-1\n",
    "        printf(\"FiboTail(%d) appelle fiboTail(%d, %d, %d)\\n\", n, nMoins1, next, nextprev)\n",
    "        fiboTail(n-1,next,next+prev)\n",
    "    } \n",
    "}\n",
    "\n",
    "fiboTail(5)"
   ]
  },
  {
   "cell_type": "markdown",
   "metadata": {},
   "source": [
    "### Ecrire la version itérative"
   ]
  },
  {
   "cell_type": "code",
   "execution_count": 36,
   "metadata": {},
   "outputs": [
    {
     "name": "stdout",
     "output_type": "stream",
     "text": [
      "fiboit(10) = 5\n",
      "fiboit(10) = 55\n",
      "fiboit(10) = 610\n"
     ]
    },
    {
     "data": {
      "text/plain": [
       "defined \u001b[32mfunction\u001b[39m \u001b[36mfiboit\u001b[39m"
      ]
     },
     "execution_count": 36,
     "metadata": {},
     "output_type": "execute_result"
    }
   ],
   "source": [
    "def fiboit(n:Int):Int={\n",
    "    var prev=0\n",
    "    var next=1\n",
    "    var compteur=0\n",
    "    while(compteur<n){\n",
    "        val total=prev+next\n",
    "        prev=next\n",
    "        next=total\n",
    "        compteur=compteur+1\n",
    "    }\n",
    "    prev\n",
    "}\n",
    "\n",
    "printf(\"fiboit(5) = %d\\n\",fiboit(5))\n",
    "printf(\"fiboit(10) = %d\\n\",fiboit(10))\n",
    "printf(\"fiboit(15) = %d\\n\",fiboit(15))"
   ]
  },
  {
   "cell_type": "markdown",
   "metadata": {},
   "source": [
    "### Recherche de doublons dans une arborescence\n",
    "\n",
    "On souhaiterait développer un programme permettant de rechercher les doublons dans une arborescence. L'exploration exhaustive de toutes les combinaisons étant rédhibitoire, on se propose de passer par une étape intermédiaire qui calcule un \"résumé\" du contenu de chaque fichier. Bien sûr, pour que ce résumé soit pertinent il faut qu'il soit court mais suffisamment discriminant pour différencier 2 fichiers distincts.\n",
    "\n",
    "Pour ce faire, on a recours à des fonctions dites \"de hachage\" qui calcule, à partir d'un fichier numérique, son empreinte numérique courte (de l'ordre de quelques octets) avec une probabilité forte que deux fichiers différents donnent deux empreintes différentes. Le calcul doit être simple à réaliser pour qu'il puisse être exécuté rapidement.\n",
    "\n",
    "L'idée de l'algorithme de recherche de doublons que nous allons développer est de détecter les collisions pouvant apparaître quand deux fichiers possèdent la même empreinte. La probabilité que les empreintes de 2 fichiers distincts soient identiques étant très faible on considérera donc que les fichiers sont des doublons."
   ]
  },
  {
   "cell_type": "markdown",
   "metadata": {},
   "source": [
    "## Une fonction de hachage historique\n",
    "\n",
    "L'une des fonctions de hachage les plus simples est historiquement l'une des plus ancienne, est la \"somme de contrôle\" (checksum en anglais). \n",
    "\n",
    "La somme de contrôle la plus simple consiste à calculer un bit de parité ce qui revient à compter la parité binaire du message transmis, c'est-à-dire si le nombre de bits à 1 est pair (bit de parité à 1) ou impair (bit de parité à 0). \n",
    "\n",
    "** Attention : ** Il ne faut pas confondre la parité du nombre et le bit de parité : ainsi 2 a un bit de parité impair.\n",
    "\n",
    "### Ecrire la fonction `paire(n:Char):Boolean` qui renvoie vrai si le nombre de bits de l'entier `n` est paire, faux sinon (n'utiliser que des boucles et des opérations de base)"
   ]
  },
  {
   "cell_type": "code",
   "execution_count": 31,
   "metadata": {},
   "outputs": [
    {
     "name": "stdout",
     "output_type": "stream",
     "text": [
      "paire(16) | (0001 0000) = false\n",
      "paire(17) | (0001 0001) = true\n",
      "paire(126) | (0111 1110) = true\n",
      "paire(128) | (1000 0000) = false\n"
     ]
    },
    {
     "data": {
      "text/plain": [
       "defined \u001b[32mfunction\u001b[39m \u001b[36mpaire\u001b[39m"
      ]
     },
     "execution_count": 31,
     "metadata": {},
     "output_type": "execute_result"
    }
   ],
   "source": [
    "def paire(n:Char):Boolean={\n",
    "    var total=0\n",
    "    var valeur=n:Int\n",
    "    var soustraire=65536\n",
    "    while(soustraire>=1){\n",
    "        if(valeur-soustraire>=0){\n",
    "            valeur=valeur - soustraire\n",
    "            total=total+1\n",
    "        }\n",
    "    soustraire=soustraire/2\n",
    "    }\n",
    "    if(valeur==1)total=total+1\n",
    "    if(total%2==0)return true\n",
    "    else return false\n",
    "}\n",
    "\n",
    "printf(\"paire(16) | (0001 0000) = %b\\n\",paire(16))\n",
    "printf(\"paire(17) | (0001 0001) = %b\\n\",paire(17))\n",
    "printf(\"paire(126) | (0111 1110) = %b\\n\",paire(126))\n",
    "printf(\"paire(128) | (1000 0000) = %b\\n\",paire(128))"
   ]
  },
  {
   "cell_type": "markdown",
   "metadata": {},
   "source": [
    "Bien sûr cette fonction en tant que fonction de hachage possède un pouvoir de discrimination très faible. C'est pourquoi elle est plutôt utilisée lorsqu'on veut vérifier au niveau du récepteur qu'un message à transmettre est bien celui qui a été envoyé. L'ajout d'une somme de contrôle au message permet de valider qu'il n'y a pas eu perturbation du message.\n",
    "\n",
    "Une sommme de contrôle un peu plus robuste mais toujours simple à mettre en oeuvre consiste à découper le message à coder en mots binaires de taille donnée (par exemple 16 ou 32 bits) puis d'effectuer une opération XOR entre ces mots.\n",
    "\n",
    "### Ecrire la fonction `checksumXOR(s:String):Int` qui renvoie le checksum sur 8 bits sur la base du calcul du XOR. \n",
    "\n",
    "### Tester sur les chaînes \"Salut\", \"Salud\" et \"tulaS\". Que constatez-vous ?"
   ]
  },
  {
   "cell_type": "code",
   "execution_count": 23,
   "metadata": {},
   "outputs": [
    {
     "name": "stdout",
     "output_type": "stream",
     "text": [
      "checksumXOR('Salut') = 95\n",
      "checksumXOR('Salud') = 79\n",
      "checksumXOR('tulaS') = 95\n"
     ]
    },
    {
     "data": {
      "text/plain": [
       "defined \u001b[32mfunction\u001b[39m \u001b[36mchecksumXOR\u001b[39m"
      ]
     },
     "execution_count": 23,
     "metadata": {},
     "output_type": "execute_result"
    }
   ],
   "source": [
    "def checksumXOR(s:String):Int={\n",
    "    s.reduceLeft((x,y)=>(x^y).toChar)\n",
    "}\n",
    "\n",
    "printf(\"checksumXOR('Salut') = %d\\n\",checksumXOR(\"Salut\"))\n",
    "printf(\"checksumXOR('Salud') = %d\\n\",checksumXOR(\"Salud\"))\n",
    "printf(\"checksumXOR('tulaS') = %d\\n\",checksumXOR(\"tulaS\"))"
   ]
  },
  {
   "cell_type": "markdown",
   "metadata": {},
   "source": [
    "Une simple somme de contrôle se contente de faire une sorte de somme des lettres du message. Elle ne peut pas détecter certains types d'erreurs. En particulier une telle somme de contrôle est invariante par :\n",
    "- réorganisation des octets du message\n",
    "- ajout ou suppression d'octets à zéro\n",
    "- erreurs multiples se compensant.\n",
    "\n"
   ]
  },
  {
   "cell_type": "markdown",
   "metadata": {},
   "source": [
    "<img src=\"attachment:image.png\" style=\"width:500px;\"/>"
   ]
  },
  {
   "cell_type": "markdown",
   "metadata": {},
   "source": [
    "Afin de répondre à certains de ces problèmes, Fletcher a proposé de prendre en compte la position des informations dans les mots. L'idée est de calculer le checksum classique (ici la somme des octets modulo 256) et d'adjoindre un deuxième calcul en multipliant succéssivement les valeurs des octets par leur position dans la chaîne (le tout modulo 256). Dans sa forme la plus simple, le hachage de Fletcher est donc sur 16 bits.\n",
    "\n",
    "### Ecrire la fonction `fletcher(s:String):Int` qui renvoie le hachage de Fletcher de la chaîne s"
   ]
  },
  {
   "cell_type": "code",
   "execution_count": 22,
   "metadata": {},
   "outputs": [
    {
     "name": "stdout",
     "output_type": "stream",
     "text": [
      "fletcher('Salut') = 208\n",
      "fletcher('tulaS') = 36\n"
     ]
    },
    {
     "data": {
      "text/plain": [
       "defined \u001b[32mfunction\u001b[39m \u001b[36mfletcher\u001b[39m"
      ]
     },
     "execution_count": 22,
     "metadata": {},
     "output_type": "execute_result"
    }
   ],
   "source": [
    "def fletcher(s:String):Int={\n",
    "    var total=0\n",
    "    var position=1\n",
    "    for(c<-s){\n",
    "        total+=c*position\n",
    "        position=position+1\n",
    "    }\n",
    "    total=checksumXOR(s)+total\n",
    "    total%256\n",
    "}\n",
    "\n",
    "printf(\"fletcher('Salut') = %d\\n\",fletcher(\"Salut\"))\n",
    "printf(\"fletcher('tulaS') = %d\\n\",fletcher(\"tulaS\"))"
   ]
  },
  {
   "cell_type": "markdown",
   "metadata": {},
   "source": [
    "# [Suite de Robinson](https://www.wikiwand.com/fr/Suite_de_Robinson)\n",
    "\n",
    "La suite de Robinson est une suite mathématique dont les termes se déterminent en comptant combien de fois chaque chiffre apparaît dans le terme précédent, le terme initial étant 0.\n",
    "\n",
    "Les premiers termes de cettes suite sont donc :\n",
    "\n",
    "    0\n",
    "    10\n",
    "    1110\n",
    "    3110\n",
    "    132110\n",
    "    ...\n",
    "\n"
   ]
  }
 ],
 "metadata": {
  "kernel_info": {
   "name": "scala"
  },
  "kernelspec": {
   "display_name": "Scala",
   "language": "scala",
   "name": "scala"
  },
  "language_info": {
   "codemirror_mode": "text/x-scala",
   "file_extension": ".scala",
   "mimetype": "text/x-scala",
   "name": "scala",
   "nbconvert_exporter": "script",
   "version": "2.12.9"
  },
  "nteract": {
   "version": "0.11.7"
  }
 },
 "nbformat": 4,
 "nbformat_minor": 2
}
