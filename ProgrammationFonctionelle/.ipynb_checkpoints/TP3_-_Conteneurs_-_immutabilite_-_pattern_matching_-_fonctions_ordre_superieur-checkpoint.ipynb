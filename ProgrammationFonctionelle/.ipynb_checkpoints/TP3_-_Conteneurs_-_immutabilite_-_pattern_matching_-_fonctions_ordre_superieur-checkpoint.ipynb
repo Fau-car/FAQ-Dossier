{
 "cells": [
  {
   "cell_type": "markdown",
   "metadata": {},
   "source": [
    "# Conteneurs, immutabilité, pattern matching, fonctions ordre supérieur"
   ]
  },
  {
   "cell_type": "markdown",
   "metadata": {},
   "source": [
    "## FoldRight\n",
    "\n",
    "Soit la fonction foldRight définie de la manière suivante (pensez à la fonction f comme un paramètre supplémentaire, cette forme de curryfication est utilisée en Scala pour faire de l'inférence de type) :"
   ]
  },
  {
   "cell_type": "code",
   "execution_count": 7,
   "metadata": {},
   "outputs": [
    {
     "data": {
      "text/plain": [
       "defined \u001b[32mfunction\u001b[39m \u001b[36mfoldRight\u001b[39m"
      ]
     },
     "execution_count": 7,
     "metadata": {},
     "output_type": "execute_result"
    }
   ],
   "source": [
    "def foldRight[A,B](as: List[A], init: B)(f: (A, B) => B): B = \n",
    "    as match {\n",
    "      case Nil => init\n",
    "      case x::rest => f(x, foldRight(rest,init)(f))\n",
    "    }"
   ]
  },
  {
   "cell_type": "markdown",
   "metadata": {},
   "source": [
    "**Utiliser cette fonction pour calculer la longueur d'une liste**"
   ]
  },
  {
   "cell_type": "code",
   "execution_count": 8,
   "metadata": {},
   "outputs": [
    {
     "data": {
      "text/html": [
       "<div class=\"jp-RenderedText\">\n",
       "<pre><code><span style=\"color: rgb(0, 187, 187)\"><span class=\"ansi-cyan-fg\">list</span></span>: <span style=\"color: rgb(0, 187, 0)\"><span class=\"ansi-green-fg\">List</span></span>[<span style=\"color: rgb(0, 187, 0)\"><span class=\"ansi-green-fg\">Int</span></span>] = <span style=\"color: yellow\"><span class=\"ansi-yellow-fg\">List</span></span>(<span style=\"color: rgb(0, 187, 0)\"><span class=\"ansi-green-fg\">1</span></span>, <span style=\"color: rgb(0, 187, 0)\"><span class=\"ansi-green-fg\">2</span></span>, <span style=\"color: rgb(0, 187, 0)\"><span class=\"ansi-green-fg\">3</span></span>, <span style=\"color: rgb(0, 187, 0)\"><span class=\"ansi-green-fg\">5</span></span>, <span style=\"color: rgb(0, 187, 0)\"><span class=\"ansi-green-fg\">8</span></span>)\n",
       "<span style=\"color: rgb(0, 187, 187)\"><span class=\"ansi-cyan-fg\">init</span></span>: <span style=\"color: rgb(0, 187, 0)\"><span class=\"ansi-green-fg\">Int</span></span> = <span style=\"color: rgb(0, 187, 0)\"><span class=\"ansi-green-fg\">0</span></span>\n",
       "<span style=\"color: rgb(0, 187, 187)\"><span class=\"ansi-cyan-fg\">res7_2</span></span>: <span style=\"color: rgb(0, 187, 0)\"><span class=\"ansi-green-fg\">Int</span></span> = <span style=\"color: rgb(0, 187, 0)\"><span class=\"ansi-green-fg\">5</span></span></code></pre>\n",
       "</div>"
      ],
      "text/plain": [
       "\u001b[36mlist\u001b[39m: \u001b[32mList\u001b[39m[\u001b[32mInt\u001b[39m] = \u001b[33mList\u001b[39m(\u001b[32m1\u001b[39m, \u001b[32m2\u001b[39m, \u001b[32m3\u001b[39m, \u001b[32m5\u001b[39m, \u001b[32m8\u001b[39m)\n",
       "\u001b[36minit\u001b[39m: \u001b[32mInt\u001b[39m = \u001b[32m0\u001b[39m\n",
       "\u001b[36mres7_2\u001b[39m: \u001b[32mInt\u001b[39m = \u001b[32m5\u001b[39m"
      ]
     },
     "metadata": {},
     "output_type": "display_data"
    }
   ],
   "source": [
    "var list= List(1,2,3,5,8)\n",
    "var init = 0\n",
    "foldRight(list,init)((x,y)=>y+1)"
   ]
  },
  {
   "cell_type": "markdown",
   "metadata": {},
   "source": [
    "Soit la fonction foldLeft définie de la manière suivante :"
   ]
  },
  {
   "cell_type": "code",
   "execution_count": 9,
   "metadata": {},
   "outputs": [
    {
     "data": {
      "text/plain": [
       "defined \u001b[32mfunction\u001b[39m \u001b[36mfoldLeft\u001b[39m"
      ]
     },
     "execution_count": 9,
     "metadata": {},
     "output_type": "execute_result"
    }
   ],
   "source": [
    "@annotation.tailrec\n",
    "  def foldLeft[A,B](list: List[A], z: B)(f: (B, A) => B): B =\n",
    "    list match {\n",
    "      case Nil   => z\n",
    "      case a::as => foldLeft(as, f(z, a))(f)\n",
    "    }"
   ]
  },
  {
   "cell_type": "markdown",
   "metadata": {},
   "source": [
    "**Utiliser cette fonction pour créer :**\n",
    "- une fonction qui incrémente chaque élément d'une liste d'entiers.\n",
    "- une fonction qui inverse une liste."
   ]
  },
  {
   "cell_type": "code",
   "execution_count": 10,
   "metadata": {},
   "outputs": [
    {
     "data": {
      "text/html": [
       "<div class=\"jp-RenderedText\">\n",
       "<pre><code>defined <span style=\"color: rgb(0, 187, 0)\"><span class=\"ansi-green-fg\">function</span></span> <span style=\"color: rgb(0, 187, 187)\"><span class=\"ansi-cyan-fg\">incrementList</span></span>\n",
       "defined <span style=\"color: rgb(0, 187, 0)\"><span class=\"ansi-green-fg\">function</span></span> <span style=\"color: rgb(0, 187, 187)\"><span class=\"ansi-cyan-fg\">inverseList</span></span>\n",
       "<span style=\"color: rgb(0, 187, 187)\"><span class=\"ansi-cyan-fg\">list</span></span>: <span style=\"color: rgb(0, 187, 0)\"><span class=\"ansi-green-fg\">List</span></span>[<span style=\"color: rgb(0, 187, 0)\"><span class=\"ansi-green-fg\">Int</span></span>] = <span style=\"color: yellow\"><span class=\"ansi-yellow-fg\">List</span></span>(<span style=\"color: rgb(0, 187, 0)\"><span class=\"ansi-green-fg\">1</span></span>, <span style=\"color: rgb(0, 187, 0)\"><span class=\"ansi-green-fg\">2</span></span>, <span style=\"color: rgb(0, 187, 0)\"><span class=\"ansi-green-fg\">3</span></span>, <span style=\"color: rgb(0, 187, 0)\"><span class=\"ansi-green-fg\">5</span></span>, <span style=\"color: rgb(0, 187, 0)\"><span class=\"ansi-green-fg\">8</span></span>)\n",
       "<span style=\"color: rgb(0, 187, 187)\"><span class=\"ansi-cyan-fg\">res9_3</span></span>: <span style=\"color: rgb(0, 187, 0)\"><span class=\"ansi-green-fg\">List</span></span>[<span style=\"color: rgb(0, 187, 0)\"><span class=\"ansi-green-fg\">Int</span></span>] = <span style=\"color: yellow\"><span class=\"ansi-yellow-fg\">List</span></span>(<span style=\"color: rgb(0, 187, 0)\"><span class=\"ansi-green-fg\">2</span></span>, <span style=\"color: rgb(0, 187, 0)\"><span class=\"ansi-green-fg\">3</span></span>, <span style=\"color: rgb(0, 187, 0)\"><span class=\"ansi-green-fg\">4</span></span>, <span style=\"color: rgb(0, 187, 0)\"><span class=\"ansi-green-fg\">6</span></span>, <span style=\"color: rgb(0, 187, 0)\"><span class=\"ansi-green-fg\">9</span></span>)\n",
       "<span style=\"color: rgb(0, 187, 187)\"><span class=\"ansi-cyan-fg\">res9_4</span></span>: <span style=\"color: rgb(0, 187, 0)\"><span class=\"ansi-green-fg\">List</span></span>[<span style=\"color: rgb(0, 187, 0)\"><span class=\"ansi-green-fg\">Int</span></span>] = <span style=\"color: yellow\"><span class=\"ansi-yellow-fg\">List</span></span>(<span style=\"color: rgb(0, 187, 0)\"><span class=\"ansi-green-fg\">8</span></span>, <span style=\"color: rgb(0, 187, 0)\"><span class=\"ansi-green-fg\">5</span></span>, <span style=\"color: rgb(0, 187, 0)\"><span class=\"ansi-green-fg\">3</span></span>, <span style=\"color: rgb(0, 187, 0)\"><span class=\"ansi-green-fg\">2</span></span>, <span style=\"color: rgb(0, 187, 0)\"><span class=\"ansi-green-fg\">1</span></span>)</code></pre>\n",
       "</div>"
      ],
      "text/plain": [
       "defined \u001b[32mfunction\u001b[39m \u001b[36mincrementList\u001b[39m\n",
       "defined \u001b[32mfunction\u001b[39m \u001b[36minverseList\u001b[39m\n",
       "\u001b[36mlist\u001b[39m: \u001b[32mList\u001b[39m[\u001b[32mInt\u001b[39m] = \u001b[33mList\u001b[39m(\u001b[32m1\u001b[39m, \u001b[32m2\u001b[39m, \u001b[32m3\u001b[39m, \u001b[32m5\u001b[39m, \u001b[32m8\u001b[39m)\n",
       "\u001b[36mres9_3\u001b[39m: \u001b[32mList\u001b[39m[\u001b[32mInt\u001b[39m] = \u001b[33mList\u001b[39m(\u001b[32m2\u001b[39m, \u001b[32m3\u001b[39m, \u001b[32m4\u001b[39m, \u001b[32m6\u001b[39m, \u001b[32m9\u001b[39m)\n",
       "\u001b[36mres9_4\u001b[39m: \u001b[32mList\u001b[39m[\u001b[32mInt\u001b[39m] = \u001b[33mList\u001b[39m(\u001b[32m8\u001b[39m, \u001b[32m5\u001b[39m, \u001b[32m3\u001b[39m, \u001b[32m2\u001b[39m, \u001b[32m1\u001b[39m)"
      ]
     },
     "metadata": {},
     "output_type": "display_data"
    }
   ],
   "source": [
    "def incrementList(list:List[Int]):List[Int]= \n",
    "{\n",
    "    foldLeft(list,List[Int]())((x,y)=>x:+y+1)\n",
    "}\n",
    "\n",
    "def inverseList[A](list:List[A]):List[A]=\n",
    "{\n",
    "    foldLeft(list,List[A]())((x,y)=>y::x)\n",
    "}\n",
    "\n",
    "var list= List(1,2,3,5,8)\n",
    "\n",
    "incrementList(list)\n",
    "inverseList(list)"
   ]
  },
  {
   "cell_type": "markdown",
   "metadata": {},
   "source": [
    "## Objectifs du reste du TP\n",
    "\n",
    "Dans les moteurs de recherche, on cherche à évaluer la pertinence d'un document par rapport à la requête effectuée par l'utilisateur. Pour ce faire, on calcule une mesure de l'intérêt de ce document et on trie les documents en fonction de cette mesure.\n",
    "\n",
    "Parmi les techniques de calcul, la méthode TF-IDF (Term Frequency-Inverse Document Frequency) est une méthode statistique qui évalue l'importance d'un terme contenu dans un document, relativement au corpus auquel il appartient. \n",
    "\n",
    "Plus le nombre d'occurrences du terme dans le document est importante, plus le poids de se mot augmente par rapport aux autres mots présents dans le document. \n",
    "\n",
    "Par ailleurs, un terme doit avoir d'autant plus d'importance qu'il est rare dans le corpus : un mot présent dans tous les documents n'est que peu discriminant.\n",
    "\n",
    "La mesure TD-IDF du terme $i$ dans le document $j$ est ainsi définie par :\n",
    "$$tfidf_{(i,j)}=tf_{(i,j)}\\cdot   idf_i$$\n",
    "\n",
    "Qui est bien d'autant plus grand que :\n",
    "- le terme est rare dans le corpus\n",
    "- qu'il est fréquent dans le document\n",
    "\n",
    "## Travail à effectuer\n",
    "\n",
    "Dans ce TP, on va construire étape par étape, une chaîne de traitement qui nous permettra de calculer le TF de tous les termes présents dans un document.\n",
    "\n",
    "On fournit le fichier `texte.txt` qui est le fichier dont on veut calculer le TF.\n",
    "\n",
    "### Récupérer dans une chaîne le contenu de l'intégralité du fichier `texte.txt` en tenant compte des erreurs sous une forme fonctionnelle (utiliser `Try`)"
   ]
  },
  {
   "cell_type": "code",
   "execution_count": null,
   "metadata": {},
   "outputs": [],
   "source": [
    "import scala.io.Source\n",
    "import scala.util.{Try,Success,Failure}\n",
    "\n",
    "def readTextFile(filename: String): Try[List[String]] = {\n",
    "    Try(Source.fromFile(filename).getLines.toList)\n",
    "}\n",
    "\n",
    "val filename = \"texte.txt\"\n",
    "readTextFile(filename) match {\n",
    "    case Success(lines) => lines.foreach(println)\n",
    "    case Failure(f) => println(f)\n",
    "}"
   ]
  },
  {
   "cell_type": "markdown",
   "metadata": {},
   "source": [
    "Nous ne sommes intéressés que par les mots du document. Or celui-ci contient aussi des ponctuations.\n",
    "\n",
    "### Construire une chaîne ne contenant plus les ponctuations à partir de la chaîne précédente en remplaçant ces caractères par des espaces (utiliser `replace()`)"
   ]
  },
  {
   "cell_type": "code",
   "execution_count": 0,
   "metadata": {},
   "outputs": [
    {
     "name": "stderr",
     "output_type": "stream",
     "text": [
      "(console):1:28 expected (Char | Symbol)\n",
      "lines.foreach(replace('.','' '))\n",
      "                           ^"
     ]
    },
    {
     "ename": "",
     "evalue": "",
     "output_type": "error",
     "traceback": [
      "(console):1:28 expected (Char | Symbol)\nlines.foreach(replace('.','' '))\n                           ^"
     ]
    }
   ],
   "source": [
    "lines.foreach(replace('.',', ' '))\n",
    "lines.foreach(println)"
   ]
  },
  {
   "cell_type": "markdown",
   "metadata": {},
   "source": [
    "### Construire la liste de tous les mots présents dans le document à partir de la chaîne précédente (utiliser `split()`)"
   ]
  },
  {
   "cell_type": "markdown",
   "metadata": {},
   "source": [
    "La casse des mots n'a pas d'importance pour le calcul qu'on souhaite effectuer (\"Texte\" et \"texte\" représente le même mot)\n",
    "\n",
    "### Constuire la liste de tous les mots de la liste précédente passés en minuscule (utiliser `map()`)"
   ]
  },
  {
   "cell_type": "markdown",
   "metadata": {},
   "source": [
    "### Utiliser la méthode `groupBy()` sur la liste précédente pour construire un dictionnaire dont les clefs sont les mots de la liste précédente et les valeurs la liste de toutes les occurences de ce mot"
   ]
  },
  {
   "cell_type": "markdown",
   "metadata": {},
   "source": [
    "### A partir du dictionnaire précédent, construire un dictionnaire qui contient le nombre d'occurences de ce mot dans le document"
   ]
  },
  {
   "cell_type": "markdown",
   "metadata": {},
   "source": [
    "### Afficher la liste des 10 mots les plus fréquents (utiliser `sortBy()`, `slice()` et `foreach()`)"
   ]
  },
  {
   "cell_type": "markdown",
   "metadata": {},
   "source": [
    "Vous devriez normalement remarquer que les mots les plus fréquents ne sont pas vraiment informatifs : ce sont des mots de liaison comme des articles ou des conjonctions de subordination. On appelle couramment ces mots de \"stopwords\" : ols sont spécifiques de chaque langue.\n",
    "\n",
    "Le fichier `stopwords.txt` fourni avec le TP contient une liste habituellement utilisée pour le français.\n",
    "\n",
    "### Reprenez les étapes précédentes en filtrant les stopwords (méthode `filter()`)\n",
    "\n",
    "### A partir du dictionnaire calculé après filtrage des stopwords, calculer le nombre de termes global présents dans le document\n",
    "\n",
    "### Construire un dictionnaire contenant le TF de tous les termes du document (à l'exception des stopwords)"
   ]
  }
 ],
 "metadata": {
  "kernel_info": {
   "name": "scala"
  },
  "kernelspec": {
   "display_name": "Scala",
   "language": "scala",
   "name": "scala"
  },
  "language_info": {
   "codemirror_mode": "text/x-scala",
   "file_extension": ".scala",
   "mimetype": "text/x-scala",
   "name": "scala",
   "nbconvert_exporter": "script",
   "version": "2.13.1"
  },
  "nteract": {
   "version": "0.11.7"
  }
 },
 "nbformat": 4,
 "nbformat_minor": 2
}
