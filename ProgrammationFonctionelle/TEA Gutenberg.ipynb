{
 "cells": [
  {
   "cell_type": "markdown",
   "metadata": {},
   "source": [
    "## Objectif du Projet\n",
    "\n",
    "L'objectif du TP est d'utiliser Scala pour indexer un gros\n",
    "volume de données textuelles (c'est-à-dire construire une structure de données permettant de retrouver rapidement des informations)."
   ]
  },
  {
   "cell_type": "markdown",
   "metadata": {},
   "source": [
    "## Contexte\n",
    "\n",
    "### Gutenberg\n",
    "Le projet Gutenberg est une bibliothèque de versions électroniques libres (parfois appelés e-texts) de livres physiquement existants. Les textes fournis sont essentiellement du domaine public, soit parce qu'ils n'ont \n",
    "jamais été sous copyright, soit parce qu'il est expiré. Il y a également quelques textes sous copyright rendus disponibles par le projet avec la permission de l'auteur. Le projet fut lancé par Michael Hart en 1971 et nommé en hommage à l'imprimeur allemand du XVème siècle Johannes Gutenberg. En novembre 2013, le projet Gutenberg annonce proposer plus de 42 000 livres dans sa collection (ref. wikipedia).\n",
    "\n",
    "Dans ce Projet, on s'intéressera uniquement à certains livres en français écrits par les auteurs les plus prolixes (en tous cas, ceux qui sont le plus référencés dans la base). On souhaiterait classifier les auteurs\n",
    "en fonction de leur style littéraire. En première approximation, on considérera un dictionnaire des mots les plus utilisés dans la base et comment ces mots sont utilisés par les différents auteurs (en espérant\n",
    "que leur vocabulaire soit spécifique)."
   ]
  },
  {
   "cell_type": "markdown",
   "metadata": {},
   "source": [
    "# Travail à réaliser"
   ]
  },
  {
   "cell_type": "markdown",
   "metadata": {},
   "source": [
    "## Ouvrir un fichier"
   ]
  },
  {
   "cell_type": "markdown",
   "metadata": {},
   "source": [
    "L'ensemble des ouvrages en français au format texte brut est disponible dans l'archive présente sur Moodle."
   ]
  },
  {
   "cell_type": "markdown",
   "metadata": {},
   "source": [
    "### Ouvrir le fichier `796-0.txt`"
   ]
  },
  {
   "cell_type": "markdown",
   "metadata": {},
   "source": [
    "Créer un descripteur associé au fichier `796-0.txt`"
   ]
  },
  {
   "cell_type": "code",
   "execution_count": 58,
   "metadata": {},
   "outputs": [
    {
     "data": {
      "text/plain": [
       "\u001b[32mimport \u001b[39m\u001b[36mscala.io.Source\n",
       "\u001b[39m\n",
       "\u001b[32mimport \u001b[39m\u001b[36mscala.util.{Try,Success,Failure}\n",
       "\n",
       "\u001b[39m\n",
       "\u001b[36mfilename\u001b[39m: \u001b[32mString\u001b[39m = \u001b[32m\"TextesFrancais/796-0.txt\"\u001b[39m\n",
       "\u001b[36mtexte\u001b[39m: \u001b[32mList\u001b[39m[\u001b[32mString\u001b[39m] = \u001b[33mList\u001b[39m(\n",
       "  \u001b[32m\"\\ufeffThe Project Gutenberg EBook of La Chartreuse de Parme, by Stendhal\"\u001b[39m,\n",
       "  \u001b[32m\"\"\u001b[39m,\n",
       "  \u001b[32m\"This eBook is for the use of anyone anywhere at no cost and with\"\u001b[39m,\n",
       "  \u001b[32m\"almost no restrictions whatsoever.  You may copy it, give it away or\"\u001b[39m,\n",
       "  \u001b[32m\"re-use it under the terms of the Project Gutenberg License included\"\u001b[39m,\n",
       "  \u001b[32m\"with this eBook or online at www.gutenberg.org/license\"\u001b[39m,\n",
       "  \u001b[32m\"\"\u001b[39m,\n",
       "  \u001b[32m\"\"\u001b[39m,\n",
       "  \u001b[32m\"Title: La Chartreuse de Parme\"\u001b[39m,\n",
       "  \u001b[32m\"\"\u001b[39m,\n",
       "  \u001b[32m\"Author: Stendhal\"\u001b[39m,\n",
       "  \u001b[32m\"\"\u001b[39m,\n",
       "  \u001b[32m\"Release Date: June 29, 2013 [EBook #796]\"\u001b[39m,\n",
       "  \u001b[32m\"\"\u001b[39m,\n",
       "  \u001b[32m\"Language: French\"\u001b[39m,\n",
       "  \u001b[32m\"\"\u001b[39m,\n",
       "  \u001b[32m\"Character set encoding: UTF-8\"\u001b[39m,\n",
       "  \u001b[32m\"\"\u001b[39m,\n",
       "  \u001b[32m\"*** START OF THIS PROJECT GUTENBERG EBOOK LA CHARTREUSE DE PARME ***\"\u001b[39m,\n",
       "  \u001b[32m\"\"\u001b[39m,\n",
       "  \u001b[32m\"\"\u001b[39m,\n",
       "  \u001b[32m\"\"\u001b[39m,\n",
       "  \u001b[32m\"\"\u001b[39m,\n",
       "  \u001b[32m\"Produced by Tokuya Matsumoto <toqyam@os.rim.or.jp>\"\u001b[39m,\n",
       "  \u001b[32m\"\"\u001b[39m,\n",
       "  \u001b[32m\"\"\u001b[39m,\n",
       "  \u001b[32m\"\"\u001b[39m,\n",
       "  \u001b[32m\"\"\u001b[39m,\n",
       "  \u001b[32m\"\"\u001b[39m,\n",
       "  \u001b[32m\"\"\u001b[39m,\n",
       "  \u001b[32m\"\"\u001b[39m,\n",
       "  \u001b[32m\"LA CHARTREUSE DE PARME\"\u001b[39m,\n",
       "  \u001b[32m\"\"\u001b[39m,\n",
       "  \u001b[32m\"par Stendhal\"\u001b[39m,\n",
       "  \u001b[32m\"\"\u001b[39m,\n",
       "  \u001b[32m\"\"\u001b[39m,\n",
       "  \u001b[32m\"\"\u001b[39m,\n",
       "  \u001b[32m\"\"\u001b[39m,\n",
       "..."
      ]
     },
     "execution_count": 58,
     "metadata": {},
     "output_type": "execute_result"
    }
   ],
   "source": [
    "import scala.io.Source\n",
    "import scala.util.{Try,Success,Failure}\n",
    "\n",
    "val filename = \"TextesFrancais/796-0.txt\"\n",
    "\n",
    "val texte = Source.fromFile(filename).getLines.toList"
   ]
  },
  {
   "cell_type": "markdown",
   "metadata": {},
   "source": [
    "### Afficher les 50 premières lignes du fichier"
   ]
  },
  {
   "cell_type": "code",
   "execution_count": 23,
   "metadata": {},
   "outputs": [
    {
     "data": {
      "text/plain": [
       "defined \u001b[32mfunction\u001b[39m \u001b[36mxPremiereLignes\u001b[39m"
      ]
     },
     "execution_count": 23,
     "metadata": {},
     "output_type": "execute_result"
    }
   ],
   "source": [
    "def xPremiereLignes(list:List[String], x:Int):List[String]={\n",
    "    list.take(x)\n",
    "}\n",
    "\n",
    "//xPremiereLignes(texte,50).foreach(println)"
   ]
  },
  {
   "cell_type": "markdown",
   "metadata": {},
   "source": [
    "### Compter le nombre de lignes du fichier"
   ]
  },
  {
   "cell_type": "code",
   "execution_count": 24,
   "metadata": {},
   "outputs": [
    {
     "data": {
      "text/plain": [
       "defined \u001b[32mfunction\u001b[39m \u001b[36mnombreDeLigne\u001b[39m"
      ]
     },
     "execution_count": 24,
     "metadata": {},
     "output_type": "execute_result"
    }
   ],
   "source": [
    "def nombreDeLigne(list:List[String]):Int={\n",
    "    list.size\n",
    "}\n",
    "\n",
    "//println(nombreDeLigne(texte))"
   ]
  },
  {
   "cell_type": "markdown",
   "metadata": {},
   "source": [
    "### Filtrer les lignes qui commencent par la chaîne \"Ceci\" (utiliser une fonction lambda)"
   ]
  },
  {
   "cell_type": "code",
   "execution_count": 25,
   "metadata": {},
   "outputs": [
    {
     "data": {
      "text/plain": [
       "defined \u001b[32mfunction\u001b[39m \u001b[36mfindFirstWord\u001b[39m"
      ]
     },
     "execution_count": 25,
     "metadata": {},
     "output_type": "execute_result"
    }
   ],
   "source": [
    "def findFirstWord(word:String, list:List[String]):(List[String],Int)={\n",
    "    var ceci = list.filter(_.split(\" \").head == word)\n",
    "    (ceci,ceci.size)\n",
    "}\n",
    "\n",
    "//println(findFirstWord(\"Ceci\",texte)._1)"
   ]
  },
  {
   "cell_type": "markdown",
   "metadata": {},
   "source": [
    "### Combien y en a-t-il ?"
   ]
  },
  {
   "cell_type": "code",
   "execution_count": 25,
   "metadata": {},
   "outputs": [],
   "source": [
    "//println(findFirstWord(\"Ceci\",texte)._2)"
   ]
  },
  {
   "cell_type": "markdown",
   "metadata": {},
   "source": [
    "### Récuperez les dans une liste"
   ]
  },
  {
   "cell_type": "code",
   "execution_count": 26,
   "metadata": {},
   "outputs": [
    {
     "data": {
      "text/html": [
       "<div class=\"jp-RenderedText\">\n",
       "<pre><code><span style=\"color: rgb(0, 187, 187)\"><span class=\"ansi-cyan-fg\">ceci</span></span>: <span style=\"color: rgb(0, 187, 0)\"><span class=\"ansi-green-fg\">List</span></span>[<span style=\"color: rgb(0, 187, 0)\"><span class=\"ansi-green-fg\">String</span></span>] = <span style=\"color: yellow\"><span class=\"ansi-yellow-fg\">List</span></span>(\n",
       "  <span style=\"color: rgb(0, 187, 0)\"><span class=\"ansi-green-fg\">&quot;Ceci voulait dire: Rechargez vos armes...&quot;</span></span>,\n",
       "  <span style=\"color: rgb(0, 187, 0)\"><span class=\"ansi-green-fg\">&quot;Ceci se passait \\u00e0 sept heures du matin. Quelques heures plus tard,&quot;</span></span>\n",
       ")</code></pre>\n",
       "</div>"
      ],
      "text/plain": [
       "\u001b[36mceci\u001b[39m: \u001b[32mList\u001b[39m[\u001b[32mString\u001b[39m] = \u001b[33mList\u001b[39m(\n",
       "  \u001b[32m\"Ceci voulait dire: Rechargez vos armes...\"\u001b[39m,\n",
       "  \u001b[32m\"Ceci se passait \\u00e0 sept heures du matin. Quelques heures plus tard,\"\u001b[39m\n",
       ")"
      ]
     },
     "metadata": {},
     "output_type": "display_data"
    }
   ],
   "source": [
    "var ceci = findFirstWord(\"Ceci\",texte)._1"
   ]
  },
  {
   "cell_type": "markdown",
   "metadata": {},
   "source": [
    "## Construction d'un dictionnaire"
   ]
  },
  {
   "cell_type": "markdown",
   "metadata": {},
   "source": [
    "On voudrait construire un dictionnaire des termes possibles à partir du contenu des ouvrages disponibles.\n",
    "\n",
    "Pour cela on va travailler sur l'ensemble de fichiers."
   ]
  },
  {
   "cell_type": "markdown",
   "metadata": {},
   "source": [
    "### Créer un programme permettant permetttant d'explorer l'ensemble des fichiers du répertoire TextesFrancais"
   ]
  },
  {
   "cell_type": "code",
   "execution_count": 36,
   "metadata": {},
   "outputs": [
    {
     "data": {
      "text/html": [
       "<div class=\"jp-RenderedText\">\n",
       "<pre><code><span style=\"color: rgb(0, 187, 0)\"><span class=\"ansi-green-fg\">import </span></span><span style=\"color: rgb(0, 187, 187)\"><span class=\"ansi-cyan-fg\">java.io.File\n",
       "\n",
       "//https://alvinalexander.com/scala/how-to-list-files-in-directory-filter-names-scala\n",
       "\n",
       "</span></span>\n",
       "defined <span style=\"color: rgb(0, 187, 0)\"><span class=\"ansi-green-fg\">function</span></span> <span style=\"color: rgb(0, 187, 187)\"><span class=\"ansi-cyan-fg\">getListOfFiles</span></span>\n",
       "<span style=\"color: rgb(0, 187, 187)\"><span class=\"ansi-cyan-fg\">nomDesTextes</span></span>: <span style=\"color: rgb(0, 187, 0)\"><span class=\"ansi-green-fg\">List</span></span>[<span style=\"color: rgb(0, 187, 0)\"><span class=\"ansi-green-fg\">File</span></span>] = <span style=\"color: yellow\"><span class=\"ansi-yellow-fg\">List</span></span>(\n",
       "  TextesFrancais/44157-0.txt,\n",
       "  TextesFrancais/29052-0.txt,\n",
       "  TextesFrancais/26476-0.txt,\n",
       "  TextesFrancais/23578-0.txt,\n",
       "  TextesFrancais/22917-0.txt,\n",
       "  TextesFrancais/43277-0.txt,\n",
       "  TextesFrancais/35969-0.txt,\n",
       "  TextesFrancais/12284-0.txt,\n",
       "  TextesFrancais/43567-0.txt,\n",
       "  TextesFrancais/37534-0.txt,\n",
       "  TextesFrancais/46469-0.txt,\n",
       "  TextesFrancais/20577-0.txt,\n",
       "  TextesFrancais/36635-0.txt,\n",
       "  TextesFrancais/41099-0.txt,\n",
       "  TextesFrancais/39953-0.txt,\n",
       "  TextesFrancais/32948-0.txt,\n",
       "  TextesFrancais/17646-0.txt,\n",
       "  TextesFrancais/37654-0.txt,\n",
       "  TextesFrancais/37184-0.txt,\n",
       "  TextesFrancais/27043-0.txt,\n",
       "  TextesFrancais/36510-0.txt,\n",
       "  TextesFrancais/42192-0.txt,\n",
       "  TextesFrancais/15239-0.txt,\n",
       "  TextesFrancais/39171-0.txt,\n",
       "  TextesFrancais/22780-0.txt,\n",
       "  TextesFrancais/33157-0.txt,\n",
       "  TextesFrancais/28332-0.txt,\n",
       "  TextesFrancais/40750-0.txt,\n",
       "  TextesFrancais/46470-0.txt,\n",
       "  TextesFrancais/39739-0.txt,\n",
       "  TextesFrancais/38527-0.txt,\n",
       "  TextesFrancais/36477-0.txt,\n",
       "  TextesFrancais/8719-0.txt,\n",
       "  TextesFrancais/15107-0.txt,\n",
       "  TextesFrancais/35445-0.txt,\n",
       "  TextesFrancais/43956-0.txt,\n",
       "  TextesFrancais/41226-0.txt,\n",
       "  TextesFrancais/39016-0.txt,\n",
       "...</code></pre>\n",
       "</div>"
      ],
      "text/plain": [
       "\u001b[32mimport \u001b[39m\u001b[36mjava.io.File\n",
       "\n",
       "//https://alvinalexander.com/scala/how-to-list-files-in-directory-filter-names-scala\n",
       "\n",
       "\u001b[39m\n",
       "defined \u001b[32mfunction\u001b[39m \u001b[36mgetListOfFiles\u001b[39m\n",
       "\u001b[36mnomDesTextes\u001b[39m: \u001b[32mList\u001b[39m[\u001b[32mFile\u001b[39m] = \u001b[33mList\u001b[39m(\n",
       "  TextesFrancais/44157-0.txt,\n",
       "  TextesFrancais/29052-0.txt,\n",
       "  TextesFrancais/26476-0.txt,\n",
       "  TextesFrancais/23578-0.txt,\n",
       "  TextesFrancais/22917-0.txt,\n",
       "  TextesFrancais/43277-0.txt,\n",
       "  TextesFrancais/35969-0.txt,\n",
       "  TextesFrancais/12284-0.txt,\n",
       "  TextesFrancais/43567-0.txt,\n",
       "  TextesFrancais/37534-0.txt,\n",
       "  TextesFrancais/46469-0.txt,\n",
       "  TextesFrancais/20577-0.txt,\n",
       "  TextesFrancais/36635-0.txt,\n",
       "  TextesFrancais/41099-0.txt,\n",
       "  TextesFrancais/39953-0.txt,\n",
       "  TextesFrancais/32948-0.txt,\n",
       "  TextesFrancais/17646-0.txt,\n",
       "  TextesFrancais/37654-0.txt,\n",
       "  TextesFrancais/37184-0.txt,\n",
       "  TextesFrancais/27043-0.txt,\n",
       "  TextesFrancais/36510-0.txt,\n",
       "  TextesFrancais/42192-0.txt,\n",
       "  TextesFrancais/15239-0.txt,\n",
       "  TextesFrancais/39171-0.txt,\n",
       "  TextesFrancais/22780-0.txt,\n",
       "  TextesFrancais/33157-0.txt,\n",
       "  TextesFrancais/28332-0.txt,\n",
       "  TextesFrancais/40750-0.txt,\n",
       "  TextesFrancais/46470-0.txt,\n",
       "  TextesFrancais/39739-0.txt,\n",
       "  TextesFrancais/38527-0.txt,\n",
       "  TextesFrancais/36477-0.txt,\n",
       "  TextesFrancais/8719-0.txt,\n",
       "  TextesFrancais/15107-0.txt,\n",
       "  TextesFrancais/35445-0.txt,\n",
       "  TextesFrancais/43956-0.txt,\n",
       "  TextesFrancais/41226-0.txt,\n",
       "  TextesFrancais/39016-0.txt,\n",
       "..."
      ]
     },
     "metadata": {},
     "output_type": "display_data"
    }
   ],
   "source": [
    "import java.io.File\n",
    "\n",
    "//https://alvinalexander.com/scala/how-to-list-files-in-directory-filter-names-scala\n",
    "\n",
    "def getListOfFiles(dir: String):List[File] = {\n",
    "    val d = new File(dir)\n",
    "    if (d.exists && d.isDirectory) {\n",
    "        d.listFiles.filter(_.isFile).toList\n",
    "    } else {\n",
    "        List[File]()\n",
    "    }\n",
    "}\n",
    "\n",
    "var nomDesTextes = getListOfFiles(\"TextesFrancais\")"
   ]
  },
  {
   "cell_type": "markdown",
   "metadata": {},
   "source": [
    "### Extraire le premier enregistrement : que contient-il ?"
   ]
  },
  {
   "cell_type": "code",
   "execution_count": 37,
   "metadata": {},
   "outputs": [
    {
     "data": {
      "text/plain": [
       "\u001b[36mpremierTexte\u001b[39m: \u001b[32mList\u001b[39m[\u001b[32mString\u001b[39m] = \u001b[33mList\u001b[39m(\n",
       "  \u001b[32m\"\\ufeffThe Project Gutenberg EBook of Entre Nous, by Lucie Vos\"\u001b[39m,\n",
       "  \u001b[32m\"\"\u001b[39m,\n",
       "  \u001b[32m\"This eBook is for the use of anyone anywhere at no cost and with\"\u001b[39m,\n",
       "  \u001b[32m\"almost no restrictions whatsoever.  You may copy it, give it away or\"\u001b[39m,\n",
       "  \u001b[32m\"re-use it under the terms of the Project Gutenberg License included\"\u001b[39m,\n",
       "  \u001b[32m\"with this eBook or online at www.gutenberg.org\"\u001b[39m,\n",
       "  \u001b[32m\"\"\u001b[39m,\n",
       "  \u001b[32m\"\"\u001b[39m,\n",
       "  \u001b[32m\"Title: Entre Nous\"\u001b[39m,\n",
       "  \u001b[32m\"       Lectures Fran\\u00e7aises \\u00e0 l'usage des ecoles primaires - I\"\u001b[39m,\n",
       "  \u001b[32m\"\"\u001b[39m,\n",
       "  \u001b[32m\"Author: Lucie Vos\"\u001b[39m,\n",
       "  \u001b[32m\"\"\u001b[39m,\n",
       "  \u001b[32m\"Illustrator: J. Berhardina Bokhorst\"\u001b[39m,\n",
       "  \u001b[32m\"\"\u001b[39m,\n",
       "  \u001b[32m\"Release Date: November 10, 2013 [EBook #44157]\"\u001b[39m,\n",
       "  \u001b[32m\"\"\u001b[39m,\n",
       "  \u001b[32m\"Language: French\"\u001b[39m,\n",
       "  \u001b[32m\"\"\u001b[39m,\n",
       "  \u001b[32m\"Character set encoding: UTF-8\"\u001b[39m,\n",
       "  \u001b[32m\"\"\u001b[39m,\n",
       "  \u001b[32m\"*** START OF THIS PROJECT GUTENBERG EBOOK ENTRE NOUS ***\"\u001b[39m,\n",
       "  \u001b[32m\"\"\u001b[39m,\n",
       "  \u001b[32m\"\"\u001b[39m,\n",
       "  \u001b[32m\"\"\u001b[39m,\n",
       "  \u001b[32m\"\"\u001b[39m,\n",
       "  \u001b[32m\"Produced by Branko Collin, Hans Pieterse and the Online\"\u001b[39m,\n",
       "  \u001b[32m\"Distributed Proofreading Team at http://www.pgdp.net\"\u001b[39m,\n",
       "  \u001b[32m\"\"\u001b[39m,\n",
       "  \u001b[32m\"\"\u001b[39m,\n",
       "  \u001b[32m\"\"\u001b[39m,\n",
       "  \u001b[32m\"\"\u001b[39m,\n",
       "  \u001b[32m\"\"\u001b[39m,\n",
       "  \u001b[32m\"\"\u001b[39m,\n",
       "  \u001b[32m\"\"\u001b[39m,\n",
       "  \u001b[32m\"\"\u001b[39m,\n",
       "  \u001b[32m\"\"\u001b[39m,\n",
       "  \u001b[32m\"  Au lecteur.\"\u001b[39m,\n",
       "..."
      ]
     },
     "execution_count": 37,
     "metadata": {},
     "output_type": "execute_result"
    }
   ],
   "source": [
    "val premierTexte = Source.fromFile(nomDesTextes.head).getLines.toList"
   ]
  },
  {
   "cell_type": "markdown",
   "metadata": {},
   "source": [
    "### Afficher le nom des fichiers "
   ]
  },
  {
   "cell_type": "code",
   "execution_count": 38,
   "metadata": {},
   "outputs": [
    {
     "name": "stdout",
     "output_type": "stream",
     "text": [
      "TextesFrancais/44157-0.txt\n",
      "TextesFrancais/29052-0.txt\n",
      "TextesFrancais/26476-0.txt\n",
      "TextesFrancais/23578-0.txt\n",
      "TextesFrancais/22917-0.txt\n",
      "TextesFrancais/43277-0.txt\n",
      "TextesFrancais/35969-0.txt\n",
      "TextesFrancais/12284-0.txt\n",
      "TextesFrancais/43567-0.txt\n",
      "TextesFrancais/37534-0.txt\n",
      "TextesFrancais/46469-0.txt\n",
      "TextesFrancais/20577-0.txt\n",
      "TextesFrancais/36635-0.txt\n",
      "TextesFrancais/41099-0.txt\n",
      "TextesFrancais/39953-0.txt\n",
      "TextesFrancais/32948-0.txt\n",
      "TextesFrancais/17646-0.txt\n",
      "TextesFrancais/37654-0.txt\n",
      "TextesFrancais/37184-0.txt\n",
      "TextesFrancais/27043-0.txt\n",
      "TextesFrancais/36510-0.txt\n",
      "TextesFrancais/42192-0.txt\n",
      "TextesFrancais/15239-0.txt\n",
      "TextesFrancais/39171-0.txt\n",
      "TextesFrancais/22780-0.txt\n",
      "TextesFrancais/33157-0.txt\n",
      "TextesFrancais/28332-0.txt\n",
      "TextesFrancais/40750-0.txt\n",
      "TextesFrancais/46470-0.txt\n",
      "TextesFrancais/39739-0.txt\n",
      "TextesFrancais/38527-0.txt\n",
      "TextesFrancais/36477-0.txt\n",
      "TextesFrancais/8719-0.txt\n",
      "TextesFrancais/15107-0.txt\n",
      "TextesFrancais/35445-0.txt\n",
      "TextesFrancais/43956-0.txt\n",
      "TextesFrancais/41226-0.txt\n",
      "TextesFrancais/39016-0.txt\n",
      "TextesFrancais/44390-0.txt\n",
      "TextesFrancais/24888-0.txt\n",
      "TextesFrancais/27041-0.txt\n",
      "TextesFrancais/17738-0.txt\n",
      "TextesFrancais/36938-0.txt\n",
      "TextesFrancais/43291-0.txt\n",
      "TextesFrancais/38706-0.txt\n",
      "TextesFrancais/39173-0.txt\n",
      "TextesFrancais/46183-0.txt\n",
      "TextesFrancais/45374-0.txt\n",
      "TextesFrancais/42310-0.txt\n",
      "TextesFrancais/39687-0.txt\n",
      "TextesFrancais/30978-0.txt\n",
      "TextesFrancais/35876-0.txt\n",
      "TextesFrancais/37306-0.txt\n",
      "TextesFrancais/42852-0.txt\n",
      "TextesFrancais/41322-0.txt\n",
      "TextesFrancais/21001-0.txt\n",
      "TextesFrancais/17578-0.txt\n",
      "TextesFrancais/36416-0.txt\n",
      "TextesFrancais/34008-0.txt\n",
      "TextesFrancais/45953-0.txt\n",
      "TextesFrancais/25097-0.txt\n",
      "TextesFrancais/35150-0.txt\n",
      "TextesFrancais/17420-0.txt\n",
      "TextesFrancais/6319-0.txt\n",
      "TextesFrancais/42131-0.txt\n",
      "TextesFrancais/40247-0.txt\n",
      "TextesFrancais/35089-0.txt\n",
      "TextesFrancais/17541-0.txt\n",
      "TextesFrancais/22889-0.txt\n",
      "TextesFrancais/17605-0.txt\n",
      "TextesFrancais/20790-0.txt\n",
      "TextesFrancais/34872-0.txt\n",
      "TextesFrancais/26614-0.txt\n",
      "TextesFrancais/30067-0.txt\n",
      "TextesFrancais/42524-0.txt\n",
      "TextesFrancais/13653-0.txt\n",
      "TextesFrancais/42561-0.txt\n",
      "TextesFrancais/44877-0.txt\n",
      "TextesFrancais/43561-0.txt\n",
      "TextesFrancais/22192-0.txt\n",
      "TextesFrancais/40516-0.txt\n",
      "TextesFrancais/41984-0.txt\n",
      "TextesFrancais/41692-0.txt\n",
      "TextesFrancais/33745-0.txt\n",
      "TextesFrancais/21966-0.txt\n",
      "TextesFrancais/22253-0.txt\n",
      "TextesFrancais/13592-0.txt\n",
      "TextesFrancais/23954-0.txt\n",
      "TextesFrancais/36086-0.txt\n",
      "TextesFrancais/.DS_Store\n",
      "TextesFrancais/30904-0.txt\n",
      "TextesFrancais/20886-0.txt\n",
      "TextesFrancais/20414-0.txt\n",
      "TextesFrancais/43441-0.txt\n",
      "TextesFrancais/35498-0.txt\n",
      "TextesFrancais/28485-0.txt\n",
      "TextesFrancais/42896-0.txt\n",
      "TextesFrancais/17251-0.txt\n",
      "TextesFrancais/44068-0.txt\n",
      "TextesFrancais/38057-0.txt\n",
      "TextesFrancais/21669-0.txt\n",
      "TextesFrancais/24809-0.txt\n",
      "TextesFrancais/17230-0.txt\n",
      "TextesFrancais/40086-0.txt\n",
      "TextesFrancais/33580-0.txt\n",
      "TextesFrancais/33250-0.txt\n",
      "TextesFrancais/31636-0.txt\n",
      "TextesFrancais/24546-0.txt\n",
      "TextesFrancais/17248-0.txt\n",
      "TextesFrancais/34351-0.txt\n",
      "TextesFrancais/38971-0.txt\n",
      "TextesFrancais/12533-0.txt\n",
      "TextesFrancais/44354-0.txt\n",
      "TextesFrancais/46022-0.txt\n",
      "TextesFrancais/18205-0.txt\n",
      "TextesFrancais/36708-0.txt\n",
      "TextesFrancais/13795-0.txt\n",
      "TextesFrancais/21825-0.txt\n",
      "TextesFrancais/36025-0.txt\n",
      "TextesFrancais/42377-0.txt\n",
      "TextesFrancais/17623-0.txt\n",
      "TextesFrancais/41769-0.txt\n",
      "TextesFrancais/31634-0.txt\n",
      "TextesFrancais/18106-0.txt\n",
      "TextesFrancais/27047-0.txt\n",
      "TextesFrancais/46364-0.txt\n",
      "TextesFrancais/43196-0.txt\n",
      "TextesFrancais/23520-0.txt\n",
      "TextesFrancais/40530-0.txt\n",
      "TextesFrancais/45787-0.txt\n",
      "TextesFrancais/44403-0.txt\n",
      "TextesFrancais/13221-0.txt\n",
      "TextesFrancais/21940-0.txt\n",
      "TextesFrancais/17746-0.txt\n",
      "TextesFrancais/43686-0.txt\n",
      "TextesFrancais/42212-0.txt\n",
      "TextesFrancais/13299-0.txt\n",
      "TextesFrancais/19820-0.txt\n",
      "TextesFrancais/31260-0.txt\n",
      "TextesFrancais/28373-0.txt\n",
      "TextesFrancais/41903-0.txt\n",
      "TextesFrancais/38335-0.txt\n",
      "TextesFrancais/31474-0.txt\n",
      "TextesFrancais/796-0.txt\n",
      "TextesFrancais/17911-0.txt\n",
      "TextesFrancais/35766-0.txt\n",
      "TextesFrancais/28828-0.txt\n",
      "TextesFrancais/21343-0.txt\n",
      "TextesFrancais/40025-0.txt\n",
      "TextesFrancais/36468-0.txt\n",
      "TextesFrancais/29397-0.txt\n",
      "TextesFrancais/37468-0.txt\n",
      "TextesFrancais/36001-0.txt\n",
      "TextesFrancais/17543-0.txt\n",
      "TextesFrancais/14803-0.txt\n",
      "TextesFrancais/40551-0.txt\n",
      "TextesFrancais/41986-0.txt\n",
      "TextesFrancais/19266-0.txt\n",
      "TextesFrancais/40239-0.txt\n",
      "TextesFrancais/26362-0.txt\n",
      "TextesFrancais/45036-0.txt\n",
      "TextesFrancais/42563-0.txt\n",
      "TextesFrancais/28176-0.txt\n",
      "TextesFrancais/31863-0.txt\n",
      "TextesFrancais/41307-0.txt\n",
      "TextesFrancais/31918-0.txt\n",
      "TextesFrancais/17739-0.txt\n",
      "TextesFrancais/27040-0.txt\n",
      "TextesFrancais/28211-0.txt\n",
      "TextesFrancais/28254-0.txt\n",
      "TextesFrancais/34564-0.txt\n",
      "TextesFrancais/19184-0.txt\n",
      "TextesFrancais/42151-0.txt\n",
      "TextesFrancais/39811-0.txt\n",
      "TextesFrancais/5423-0.txt\n",
      "TextesFrancais/28168-0.txt\n",
      "TextesFrancais/27038-0.txt\n",
      "TextesFrancais/12752-0.txt\n",
      "TextesFrancais/29758-0.txt\n",
      "TextesFrancais/19021-0.txt\n",
      "TextesFrancais/46142-0.txt\n",
      "TextesFrancais/43761-0.txt\n",
      "TextesFrancais/35444-0.txt\n",
      "TextesFrancais/28624-0.txt\n",
      "TextesFrancais/41147-0.txt\n",
      "TextesFrancais/16499-0.txt\n",
      "TextesFrancais/46387-0.txt\n",
      "TextesFrancais/39835-0.txt\n",
      "TextesFrancais/23423-0.txt\n",
      "TextesFrancais/27694-0.txt\n",
      "TextesFrancais/31944-0.txt\n",
      "TextesFrancais/26101-0.txt\n",
      "TextesFrancais/27144-0.txt\n",
      "TextesFrancais/29857-0.txt\n",
      "TextesFrancais/22077-0.txt\n",
      "TextesFrancais/17501-0.txt\n",
      "TextesFrancais/12367-0.txt\n",
      "TextesFrancais/30553-0.txt\n",
      "TextesFrancais/25850-0.txt\n",
      "TextesFrancais/30363-0.txt\n",
      "TextesFrancais/17459-0.txt\n",
      "TextesFrancais/24850-0.txt\n",
      "TextesFrancais/45458-0.txt\n",
      "TextesFrancais/14804-0.txt\n",
      "TextesFrancais/45031-0.txt\n",
      "TextesFrancais/39679-0.txt\n",
      "TextesFrancais/2419-0.txt\n",
      "TextesFrancais/36729-0.txt\n",
      "TextesFrancais/43851-0.txt\n",
      "TextesFrancais/41364-0.txt\n",
      "TextesFrancais/14688-0.txt\n",
      "TextesFrancais/40399-0.txt\n",
      "TextesFrancais/17602-0.txt\n",
      "TextesFrancais/43787-0.txt\n",
      "TextesFrancais/35643-0.txt\n",
      "TextesFrancais/44467-0.txt\n",
      "TextesFrancais/42177-0.txt\n",
      "TextesFrancais/39031-0.txt\n",
      "TextesFrancais/40695-0.txt\n",
      "TextesFrancais/36260-0.txt\n",
      "TextesFrancais/41943-0.txt\n",
      "TextesFrancais/43233-0.txt\n",
      "TextesFrancais/44723-0.txt\n",
      "TextesFrancais/44156-0.txt\n",
      "TextesFrancais/21413-0.txt\n",
      "TextesFrancais/40489-0.txt\n",
      "TextesFrancais/33422-0.txt\n",
      "TextesFrancais/24424-0.txt\n",
      "TextesFrancais/32808-0.txt\n",
      "TextesFrancais/33808-0.txt\n",
      "TextesFrancais/26082-0.txt\n",
      "TextesFrancais/39738-0.txt\n",
      "TextesFrancais/43848-0.txt\n",
      "TextesFrancais/32113-0.txt\n",
      "TextesFrancais/44236-0.txt\n",
      "TextesFrancais/36058-0.txt\n",
      "TextesFrancais/18825-0.txt\n",
      "TextesFrancais/44931-0.txt\n",
      "TextesFrancais/42036-0.txt\n",
      "TextesFrancais/39976-0.txt\n",
      "TextesFrancais/41428-0.txt\n",
      "TextesFrancais/32297-0.txt\n",
      "TextesFrancais/36826-0.txt\n",
      "TextesFrancais/42292-0.txt\n",
      "TextesFrancais/38705-0.txt\n",
      "TextesFrancais/12534-0.txt\n",
      "TextesFrancais/27042-0.txt\n",
      "TextesFrancais/27844-0.txt\n",
      "TextesFrancais/44483-0.txt\n",
      "TextesFrancais/45970-0.txt\n",
      "TextesFrancais/45176-0.txt\n",
      "TextesFrancais/27267-0.txt\n",
      "TextesFrancais/43767-0.txt\n",
      "TextesFrancais/40085-0.txt\n",
      "TextesFrancais/44402-0.txt\n",
      "TextesFrancais/42586-0.txt\n",
      "TextesFrancais/17747-0.txt\n",
      "TextesFrancais/23289-0.txt\n",
      "TextesFrancais/36528-0.txt\n",
      "TextesFrancais/42256-0.txt\n",
      "TextesFrancais/20246-0.txt\n",
      "TextesFrancais/27046-0.txt\n",
      "TextesFrancais/36987-0.txt\n",
      "TextesFrancais/13258-0.txt\n",
      "TextesFrancais/45312-0.txt\n",
      "TextesFrancais/28217-0.txt\n",
      "TextesFrancais/43871-0.txt\n",
      "TextesFrancais/34783-0.txt\n",
      "TextesFrancais/41843-0.txt\n",
      "TextesFrancais/23484-0.txt\n",
      "TextesFrancais/44373-0.txt\n",
      "TextesFrancais/32056-0.txt\n",
      "TextesFrancais/41614-0.txt\n",
      "TextesFrancais/44874-0.txt\n",
      "TextesFrancais/28829-0.txt\n",
      "TextesFrancais/45969-0.txt\n",
      "TextesFrancais/36469-0.txt\n",
      "TextesFrancais/17643-0.txt\n",
      "TextesFrancais/44543-0.txt\n",
      "TextesFrancais/17542-0.txt\n",
      "TextesFrancais/28787-0.txt\n",
      "TextesFrancais/17252-0.txt\n",
      "TextesFrancais/42743-0.txt\n",
      "TextesFrancais/37384-0.txt\n",
      "TextesFrancais/38996-0.txt\n",
      "TextesFrancais/46224-0.txt\n",
      "TextesFrancais/35951-0.txt\n",
      "TextesFrancais/20262-0.txt\n",
      "TextesFrancais/44762-0.txt\n",
      "TextesFrancais/28622-0.txt\n",
      "TextesFrancais/31475-0.txt\n",
      "TextesFrancais/13772-0.txt\n",
      "TextesFrancais/13737-0.txt\n",
      "TextesFrancais/45150-0.txt\n",
      "TextesFrancais/30696-0.txt\n",
      "TextesFrancais/31432-0.txt\n",
      "TextesFrancais/23582-0.txt\n",
      "TextesFrancais/42525-0.txt\n",
      "TextesFrancais/44070-0.txt\n",
      "TextesFrancais/28559-0.txt\n",
      "TextesFrancais/38849-0.txt\n",
      "TextesFrancais/42624-0.txt\n",
      "TextesFrancais/17505-0.txt\n"
     ]
    },
    {
     "name": "stdout",
     "output_type": "stream",
     "text": [
      "TextesFrancais/44504-0.txt\n",
      "TextesFrancais/17540-0.txt\n",
      "TextesFrancais/17641-0.txt\n",
      "TextesFrancais/25526-0.txt\n",
      "TextesFrancais/36978-0.txt\n",
      "TextesFrancais/43294-0.txt\n",
      "TextesFrancais/17311-0.txt\n",
      "TextesFrancais/27345-0.txt\n",
      "TextesFrancais/23566-0.txt\n",
      "TextesFrancais/34560-0.txt\n",
      "TextesFrancais/29114-0.txt\n",
      "TextesFrancais/43501-0.txt\n",
      "TextesFrancais/37183-0.txt\n",
      "TextesFrancais/27044-0.txt\n",
      "TextesFrancais/42088-0.txt\n",
      "TextesFrancais/32640-0.txt\n",
      "TextesFrancais/43389-0.txt\n",
      "TextesFrancais/42836-0.txt\n",
      "TextesFrancais/28370-0.txt\n",
      "TextesFrancais/41413-0.txt\n",
      "TextesFrancais/40413-0.txt\n",
      "TextesFrancais/42765-0.txt\n",
      "TextesFrancais/33539-0.txt\n",
      "TextesFrancais/42421-0.txt\n",
      "TextesFrancais/36437-0.txt\n",
      "TextesFrancais/42798-0.txt\n",
      "TextesFrancais/36207-0.txt\n",
      "TextesFrancais/42211-0.txt\n",
      "TextesFrancais/36900-0.txt\n",
      "TextesFrancais/28080-0.txt\n",
      "TextesFrancais/19440-0.txt\n",
      "TextesFrancais/37052-0.txt\n",
      "TextesFrancais/17285-0.txt\n",
      "TextesFrancais/45655-0.txt\n",
      "TextesFrancais/13834-0.txt\n",
      "TextesFrancais/44098-0.txt\n",
      "TextesFrancais/28534-0.txt\n",
      "TextesFrancais/13914-0.txt\n",
      "TextesFrancais/41113-0.txt\n",
      "TextesFrancais/37989-0.txt\n",
      "TextesFrancais/37273-0.txt\n",
      "TextesFrancais/45058-0.txt\n",
      "TextesFrancais/5082-0.txt\n",
      "TextesFrancais/18014-0.txt\n",
      "TextesFrancais/30582-0.txt\n",
      "TextesFrancais/36894-0.txt\n",
      "TextesFrancais/39513-0.txt\n",
      "TextesFrancais/44906-0.txt\n",
      "TextesFrancais/28429-0.txt\n",
      "TextesFrancais/26685-0.txt\n",
      "TextesFrancais/24924-0.txt\n",
      "TextesFrancais/26211-0.txt\n",
      "TextesFrancais/40422-0.txt\n",
      "TextesFrancais/42711-0.txt\n",
      "TextesFrancais/30702-0.txt\n",
      "TextesFrancais/40172-0.txt\n",
      "TextesFrancais/27029-0.txt\n",
      "TextesFrancais/39492-0.txt\n",
      "TextesFrancais/44260-0.txt\n",
      "TextesFrancais/17261-0.txt\n",
      "TextesFrancais/17509-0.txt\n",
      "TextesFrancais/40707-0.txt\n",
      "TextesFrancais/45119-0.txt\n",
      "TextesFrancais/40052-0.txt\n",
      "TextesFrancais/28789-0.txt\n",
      "TextesFrancais/28358-0.txt\n",
      "TextesFrancais/799-0.txt\n",
      "TextesFrancais/28200-0.txt\n",
      "TextesFrancais/45428-0.txt\n",
      "TextesFrancais/32065-0.txt\n",
      "TextesFrancais/20640-0.txt\n",
      "TextesFrancais/42986-0.txt\n",
      "TextesFrancais/46604-0.txt\n",
      "TextesFrancais/38225-0.txt\n",
      "TextesFrancais/44958-0.txt\n",
      "TextesFrancais/35840-0.txt\n",
      "TextesFrancais/3000-0.txt\n",
      "TextesFrancais/41738-0.txt\n",
      "TextesFrancais/24325-0.txt\n",
      "TextesFrancais/43901-0.txt\n",
      "TextesFrancais/18197-0.txt\n",
      "TextesFrancais/25734-0.txt\n",
      "TextesFrancais/26868-0.txt\n",
      "TextesFrancais/45753-0.txt\n",
      "TextesFrancais/1256-0.txt\n",
      "TextesFrancais/39449-0.txt\n",
      "TextesFrancais/46444-0.txt\n",
      "TextesFrancais/25755-0.txt\n",
      "TextesFrancais/34692-0.txt\n",
      "TextesFrancais/17696-0.txt\n",
      "TextesFrancais/44697-0.txt\n",
      "TextesFrancais/40049-0.txt\n",
      "TextesFrancais/36780-0.txt\n",
      "TextesFrancais/41872-0.txt\n",
      "TextesFrancais/17656-0.txt\n",
      "TextesFrancais/21013-0.txt\n",
      "TextesFrancais/37050-0.txt\n",
      "TextesFrancais/15598-0.txt\n",
      "TextesFrancais/18407-0.txt\n",
      "TextesFrancais/6994-0.txt\n",
      "TextesFrancais/44187-0.txt\n",
      "TextesFrancais/28082-0.txt\n",
      "TextesFrancais/42497-0.txt\n",
      "TextesFrancais/13374-0.txt\n",
      "TextesFrancais/45323-0.txt\n",
      "TextesFrancais/26376-0.txt\n",
      "TextesFrancais/20623-0.txt\n",
      "TextesFrancais/38058-0.txt\n",
      "TextesFrancais/41644-0.txt\n",
      "TextesFrancais/15310-0.txt\n",
      "TextesFrancais/34432-0.txt\n",
      "TextesFrancais/36972-0.txt\n",
      "TextesFrancais/39024-0.txt\n",
      "TextesFrancais/25039-0.txt\n",
      "TextesFrancais/31720-0.txt\n",
      "TextesFrancais/46350-0.txt\n",
      "TextesFrancais/38435-0.txt\n",
      "TextesFrancais/27036-0.txt\n",
      "TextesFrancais/37011-0.txt\n",
      "TextesFrancais/35825-0.txt\n",
      "TextesFrancais/40248-0.txt\n",
      "TextesFrancais/27313-0.txt\n",
      "TextesFrancais/25863-0.txt\n",
      "TextesFrancais/44346-0.txt\n",
      "TextesFrancais/43980-0.txt\n",
      "TextesFrancais/29772-0.txt\n",
      "TextesFrancais/36371-0.txt\n",
      "TextesFrancais/17577-0.txt\n",
      "TextesFrancais/27566-0.txt\n",
      "TextesFrancais/30977-0.txt\n",
      "TextesFrancais/42432-0.txt\n",
      "TextesFrancais/17123-0.txt\n",
      "TextesFrancais/14799-0.txt\n",
      "TextesFrancais/13231-0.txt\n",
      "TextesFrancais/23199-0.txt\n",
      "TextesFrancais/20950-0.txt\n",
      "TextesFrancais/31440-0.txt\n",
      "TextesFrancais/43475-0.txt\n",
      "TextesFrancais/30930-0.txt\n",
      "TextesFrancais/17298-0.txt\n",
      "TextesFrancais/33205-0.txt\n",
      "TextesFrancais/34451-0.txt\n",
      "TextesFrancais/36911-0.txt\n",
      "TextesFrancais/45411-0.txt\n",
      "TextesFrancais/2998-0.txt\n",
      "TextesFrancais/17044-0.txt\n",
      "TextesFrancais/22918-0.txt\n",
      "TextesFrancais/38712-0.txt\n",
      "TextesFrancais/17345-0.txt\n",
      "TextesFrancais/42064-0.txt\n",
      "TextesFrancais/34803-0.txt\n",
      "TextesFrancais/25981-0.txt\n",
      "TextesFrancais/41815-0.txt\n",
      "TextesFrancais/26370-0.txt\n",
      "TextesFrancais/20108-0.txt\n",
      "TextesFrancais/31032-0.txt\n",
      "TextesFrancais/34285-0.txt\n",
      "TextesFrancais/37567-0.txt\n",
      "TextesFrancais/46527-0.txt\n",
      "TextesFrancais/44139-0.txt\n",
      "TextesFrancais/44181-0.txt\n",
      "TextesFrancais/32963-0.txt\n",
      "TextesFrancais/27215-0.txt\n",
      "TextesFrancais/18055-0.txt\n",
      "TextesFrancais/34731-0.txt\n",
      "TextesFrancais/21896-0.txt\n",
      "TextesFrancais/45590-0.txt\n",
      "TextesFrancais/38362-0.txt\n",
      "TextesFrancais/20234-0.txt\n",
      "TextesFrancais/33454-0.txt\n",
      "TextesFrancais/27308-0.txt\n",
      "TextesFrancais/43923-0.txt\n",
      "TextesFrancais/35568-0.txt\n",
      "TextesFrancais/37133-0.txt\n",
      "TextesFrancais/30423-0.txt\n",
      "TextesFrancais/17319-0.txt\n",
      "TextesFrancais/35200-0.txt\n",
      "TextesFrancais/28258-0.txt\n",
      "TextesFrancais/27931-0.txt\n",
      "TextesFrancais/42472-0.txt\n",
      "TextesFrancais/38118-0.txt\n",
      "TextesFrancais/42592-0.txt\n",
      "TextesFrancais/44453-0.txt\n",
      "TextesFrancais/35223-0.txt\n",
      "TextesFrancais/26092-0.txt\n",
      "TextesFrancais/31069-0.txt\n",
      "TextesFrancais/30395-0.txt\n",
      "TextesFrancais/39429-0.txt\n",
      "TextesFrancais/31054-0.txt\n",
      "TextesFrancais/31817-0.txt\n",
      "TextesFrancais/27854-0.txt\n",
      "TextesFrancais/35919-0.txt\n",
      "TextesFrancais/30779-0.txt\n",
      "TextesFrancais/41208-0.txt\n",
      "TextesFrancais/29476-0.txt\n",
      "TextesFrancais/42063-0.txt\n",
      "TextesFrancais/46541-0.txt\n",
      "TextesFrancais/34496-0.txt\n",
      "TextesFrancais/34841-0.txt\n",
      "TextesFrancais/23279-0.txt\n",
      "TextesFrancais/39774-0.txt\n",
      "TextesFrancais/38059-0.txt\n",
      "TextesFrancais/44023-0.txt\n",
      "TextesFrancais/31070-0.txt\n",
      "TextesFrancais/23610-0.txt\n",
      "TextesFrancais/2650-0.txt\n",
      "TextesFrancais/27033-0.txt\n",
      "TextesFrancais/36315-0.txt\n",
      "TextesFrancais/44613-0.txt\n",
      "TextesFrancais/39694-0.txt\n",
      "TextesFrancais/36812-0.txt\n",
      "TextesFrancais/37051-0.txt\n",
      "TextesFrancais/43047-0.txt\n",
      "TextesFrancais/39654-0.txt\n",
      "TextesFrancais/24962-0.txt\n",
      "TextesFrancais/19662-0.txt\n",
      "TextesFrancais/39320-0.txt\n",
      "TextesFrancais/34693-0.txt\n",
      "TextesFrancais/42924-0.txt\n",
      "TextesFrancais/17668-0.txt\n",
      "TextesFrancais/18015-0.txt\n",
      "TextesFrancais/13808-0.txt\n",
      "TextesFrancais/29802-0.txt\n",
      "TextesFrancais/39512-0.txt\n",
      "TextesFrancais/32509-0.txt\n",
      "TextesFrancais/20700-0.txt\n",
      "TextesFrancais/24960-0.txt\n",
      "TextesFrancais/5126-0.txt\n",
      "TextesFrancais/34528-0.txt\n",
      "TextesFrancais/39825-0.txt\n",
      "TextesFrancais/43926-0.txt\n",
      "TextesFrancais/25756-0.txt\n",
      "TextesFrancais/42648-0.txt\n",
      "TextesFrancais/33339-0.txt\n",
      "TextesFrancais/46447-0.txt\n",
      "TextesFrancais/18108-0.txt\n",
      "TextesFrancais/44488-0.txt\n",
      "TextesFrancais/23596-0.txt\n",
      "TextesFrancais/30831-0.txt\n",
      "TextesFrancais/44749-0.txt\n",
      "TextesFrancais/27031-0.txt\n",
      "TextesFrancais/46357-0.txt\n",
      "TextesFrancais/28081-0.txt\n",
      "TextesFrancais/36482-0.txt\n",
      "TextesFrancais/30994-0.txt\n",
      "TextesFrancais/37053-0.txt\n",
      "TextesFrancais/20479-0.txt\n",
      "TextesFrancais/44285-0.txt\n",
      "TextesFrancais/33534-0.txt\n",
      "TextesFrancais/26780-0.txt\n",
      "TextesFrancais/33184-0.txt\n",
      "TextesFrancais/43408-0.txt\n",
      "TextesFrancais/40855-0.txt\n",
      "TextesFrancais/39921-0.txt\n",
      "TextesFrancais/34469-0.txt\n",
      "TextesFrancais/39637-0.txt\n",
      "TextesFrancais/17225-0.txt\n",
      "TextesFrancais/20761-0.txt\n",
      "TextesFrancais/33595-0.txt\n",
      "TextesFrancais/30703-0.txt\n",
      "TextesFrancais/21215-0.txt\n",
      "TextesFrancais/8650-0.txt\n",
      "TextesFrancais/45715-0.txt\n",
      "TextesFrancais/44715-0.txt\n",
      "TextesFrancais/37914-0.txt\n",
      "TextesFrancais/37951-0.txt\n",
      "TextesFrancais/22262-0.txt\n",
      "TextesFrancais/21912-0.txt\n",
      "TextesFrancais/42590-0.txt\n",
      "TextesFrancais/16887-0.txt\n",
      "TextesFrancais/45886-0.txt\n",
      "TextesFrancais/43748-0.txt\n",
      "TextesFrancais/17688-0.txt\n",
      "TextesFrancais/32138-0.txt\n",
      "TextesFrancais/41486-0.txt\n",
      "TextesFrancais/43554-0.txt\n",
      "TextesFrancais/44807-0.txt\n",
      "TextesFrancais/42554-0.txt\n",
      "TextesFrancais/46033-0.txt\n",
      "TextesFrancais/38756-0.txt\n",
      "TextesFrancais/44300-0.txt\n",
      "TextesFrancais/45468-0.txt\n",
      "TextesFrancais/44468-0.txt\n",
      "TextesFrancais/22266-0.txt\n",
      "TextesFrancais/36910-0.txt\n",
      "TextesFrancais/42594-0.txt\n",
      "TextesFrancais/2999-0.txt\n",
      "TextesFrancais/35124-0.txt\n",
      "TextesFrancais/42695-0.txt\n",
      "TextesFrancais/29651-0.txt\n",
      "TextesFrancais/45121-0.txt\n",
      "TextesFrancais/31137-0.txt\n",
      "TextesFrancais/17264-0.txt\n",
      "TextesFrancais/33378-0.txt\n",
      "TextesFrancais/39363-0.txt\n",
      "TextesFrancais/41116-0.txt\n",
      "TextesFrancais/25752-0.txt\n",
      "TextesFrancais/30587-0.txt\n",
      "TextesFrancais/17947-0.txt\n",
      "TextesFrancais/17590-0.txt\n",
      "TextesFrancais/24573-0.txt\n",
      "TextesFrancais/44180-0.txt\n",
      "TextesFrancais/17550-0.txt\n"
     ]
    },
    {
     "name": "stdout",
     "output_type": "stream",
     "text": [
      "TextesFrancais/26504-0.txt\n",
      "TextesFrancais/6501-0.txt\n",
      "TextesFrancais/17238-0.txt\n",
      "TextesFrancais/29549-0.txt\n",
      "TextesFrancais/17360-0.txt\n",
      "TextesFrancais/36909-0.txt\n",
      "TextesFrancais/23616-0.txt\n",
      "TextesFrancais/27876-0.txt\n",
      "TextesFrancais/27035-0.txt\n",
      "TextesFrancais/43535-0.txt\n",
      "TextesFrancais/45060-0.txt\n",
      "TextesFrancais/45979-0.txt\n",
      "TextesFrancais/44617-0.txt\n",
      "TextesFrancais/45864-0.txt\n",
      "TextesFrancais/18133-0.txt\n",
      "TextesFrancais/27831-0.txt\n",
      "TextesFrancais/35657-0.txt\n",
      "TextesFrancais/27037-0.txt\n",
      "TextesFrancais/13190-0.txt\n",
      "TextesFrancais/15739-0.txt\n",
      "TextesFrancais/42126-0.txt\n",
      "TextesFrancais/20895-0.txt\n",
      "TextesFrancais/37401-0.txt\n",
      "TextesFrancais/35732-0.txt\n",
      "TextesFrancais/45692-0.txt\n",
      "TextesFrancais/17242-0.txt\n",
      "TextesFrancais/35476-0.txt\n",
      "TextesFrancais/44713-0.txt\n",
      "TextesFrancais/18543-0.txt\n",
      "TextesFrancais/13189-0.txt\n",
      "TextesFrancais/31441-0.txt\n",
      "TextesFrancais/7442-0.txt\n",
      "TextesFrancais/40095-0.txt\n",
      "TextesFrancais/46111-0.txt\n",
      "TextesFrancais/27970-0.txt\n",
      "TextesFrancais/15579-0.txt\n",
      "TextesFrancais/36460-0.txt\n",
      "TextesFrancais/44960-0.txt\n",
      "TextesFrancais/22078-0.txt\n",
      "TextesFrancais/43476-0.txt\n",
      "TextesFrancais/18849-0.txt\n",
      "TextesFrancais/45633-0.txt\n",
      "TextesFrancais/39220-0.txt\n",
      "TextesFrancais/40778-0.txt\n",
      "TextesFrancais/38548-0.txt\n",
      "TextesFrancais/38385-0.txt\n",
      "TextesFrancais/19152-0.txt\n"
     ]
    }
   ],
   "source": [
    "nomDesTextes.foreach(println)"
   ]
  },
  {
   "cell_type": "markdown",
   "metadata": {
    "collapsed": true
   },
   "source": [
    "### Construire une structure contenant l'ensemble des textes"
   ]
  },
  {
   "cell_type": "code",
   "execution_count": 71,
   "metadata": {},
   "outputs": [
    {
     "data": {
      "text/html": [
       "<div class=\"jp-RenderedText\">\n",
       "<pre><code><span style=\"color: rgb(0, 187, 187)\"><span class=\"ansi-cyan-fg\">textes</span></span>: <span style=\"color: rgb(0, 187, 0)\"><span class=\"ansi-green-fg\">List</span></span>[<span style=\"color: rgb(0, 187, 0)\"><span class=\"ansi-green-fg\">Nothing</span></span>] = <span style=\"color: yellow\"><span class=\"ansi-yellow-fg\">List</span></span>()</code></pre>\n",
       "</div>"
      ],
      "text/plain": [
       "\u001b[36mtextes\u001b[39m: \u001b[32mList\u001b[39m[\u001b[32mNothing\u001b[39m] = \u001b[33mList\u001b[39m()"
      ]
     },
     "metadata": {},
     "output_type": "display_data"
    }
   ],
   "source": [
    "var textes = List[List[String]]()\n",
    "\n",
    "for (x <- nomDesTextes) {\n",
    "    textes :: Source.fromFile(x,\"ISO-8859-1\").getLines.toList\n",
    "}"
   ]
  },
  {
   "cell_type": "markdown",
   "metadata": {},
   "source": [
    "### Construire une structure contenant l'ensemble des mots présents dans tous les fichiers (attention : on veut un enregistrement par mot et non pas par \"mot par fichier\" $\\rightarrow$ `flatMap()`)."
   ]
  },
  {
   "cell_type": "code",
   "execution_count": 70,
   "metadata": {},
   "outputs": [
    {
     "name": "stdout",
     "output_type": "stream",
     "text": [
      "0\n"
     ]
    }
   ],
   "source": [
    "println(textes.size)"
   ]
  },
  {
   "cell_type": "markdown",
   "metadata": {},
   "source": [
    "### Construire une structure permettant de mettre tous les mots en minuscule"
   ]
  },
  {
   "cell_type": "code",
   "execution_count": null,
   "metadata": {
    "collapsed": true
   },
   "outputs": [],
   "source": []
  },
  {
   "cell_type": "markdown",
   "metadata": {},
   "source": [
    "### Construire un dictionnaire générant des couples (mot,fréquence) - étape map"
   ]
  },
  {
   "cell_type": "code",
   "execution_count": null,
   "metadata": {
    "collapsed": true
   },
   "outputs": [],
   "source": []
  },
  {
   "cell_type": "markdown",
   "metadata": {},
   "source": [
    "### Parmi les mots les plus courants il y a des mots tellement utilisés qu'ils n'apportent pas d'information sur un document (on parle de stopwords). De fait on va filtrer ces mots (utiliser la liste vue en TP)."
   ]
  },
  {
   "cell_type": "code",
   "execution_count": null,
   "metadata": {
    "collapsed": true
   },
   "outputs": [],
   "source": []
  },
  {
   "cell_type": "markdown",
   "metadata": {},
   "source": [
    "#### Afficher quelques stopwords"
   ]
  },
  {
   "cell_type": "code",
   "execution_count": null,
   "metadata": {
    "collapsed": true
   },
   "outputs": [],
   "source": []
  },
  {
   "cell_type": "markdown",
   "metadata": {},
   "source": [
    "#### Filtrer le dictionnaire pour supprimer les stopwords"
   ]
  },
  {
   "cell_type": "code",
   "execution_count": null,
   "metadata": {
    "collapsed": true
   },
   "outputs": [],
   "source": []
  },
  {
   "cell_type": "markdown",
   "metadata": {},
   "source": [
    "#### Quel est maintenant le top 10 ?"
   ]
  },
  {
   "cell_type": "code",
   "execution_count": null,
   "metadata": {
    "collapsed": true
   },
   "outputs": [],
   "source": []
  },
  {
   "cell_type": "markdown",
   "metadata": {},
   "source": [
    "#### Si vous voyez encore des \"mots\" non informatifs, filtrez-les "
   ]
  },
  {
   "cell_type": "code",
   "execution_count": null,
   "metadata": {
    "collapsed": true
   },
   "outputs": [],
   "source": []
  },
  {
   "cell_type": "markdown",
   "metadata": {},
   "source": [
    "## Signature d'un document : indice TF-IDF"
   ]
  },
  {
   "cell_type": "markdown",
   "metadata": {},
   "source": [
    "L'indice TF-IDF (Term Frequency-Inverse Document Frequency) est un indice statistique appliqué aux données textuelles qui permet mesurer l'importance d'un terme dans un document au regard du reste du corpus de texte. Il augmente proportionnellement au nombre d'occurrences du mot dans le document et varie également en fonction de la fréquence du mot dans le corpus."
   ]
  },
  {
   "cell_type": "markdown",
   "metadata": {},
   "source": [
    "### TF - Term Frequency"
   ]
  },
  {
   "cell_type": "markdown",
   "metadata": {},
   "source": [
    "La \"fréquence\" d'un terme est  le nombre d'occurrences de ce terme dans le document considéré (on parle de \"fréquence\" par abus de langage)."
   ]
  },
  {
   "cell_type": "markdown",
   "metadata": {},
   "source": [
    "Dans notre cas, cela revient à faire subire la procédure que nous avons utilisée pour construire notre dictionnaire non pas à l'ensemble du texte correspondant au corpus mais fichier par fichier."
   ]
  },
  {
   "cell_type": "code",
   "execution_count": null,
   "metadata": {
    "collapsed": true
   },
   "outputs": [],
   "source": []
  },
  {
   "cell_type": "markdown",
   "metadata": {},
   "source": [
    "### Fréquence inverse de document - IDF"
   ]
  },
  {
   "cell_type": "markdown",
   "metadata": {},
   "source": [
    "A l'inverse du TF qui cherche à mesurer l'importance d'un terme dans **un** document, la fréquence inverse de document (inverse document frequency - IDF) mesure l'importance du terme dans **l'ensemble** du corpus. \n",
    "\n",
    "Cette mesure vise à donner un poids plus important aux termes les moins fréquents, considérés comme contenant plus d'informations.\n",
    "\n",
    "Pratiquement, on calcule le logarithme en base 10 de l'inverse de la proportion de documents du corpus qui contiennent le terme, ce qui revient à la formule :\n",
    "$$idf_i=\\log_{10}{\\frac{|D|}{|\\{d_((j)):t_((i))\\in d_((j))\\}|))}}$$\n",
    "\n",
    "avec :\n",
    "- $|D|$ : le nombre total de documents dans le corpus ;\n",
    "- $|\\{d_((j)):t_((i))\\in d_((j))\\}|$ : le nombre de documents où le terme $t_((i))$ apparaît.\n",
    "\n",
    "#### Calculer l'IDF pour tous les mots définis dans le dictionnaire (attention l'IDF dépend du document, il doit donc y en avoir autant que le nombre de mots fois le nombre de document)"
   ]
  },
  {
   "cell_type": "code",
   "execution_count": null,
   "metadata": {
    "collapsed": true
   },
   "outputs": [],
   "source": []
  },
  {
   "cell_type": "markdown",
   "metadata": {},
   "source": [
    "### Calcul du [TF-IDF](https://fr.wikipedia.org/wiki/TF-IDF?oldformat=true)"
   ]
  },
  {
   "cell_type": "markdown",
   "metadata": {},
   "source": [
    "Le calcul final revient simlement pour le terme $i$ dans le document $j$ à calculer le produit $tfidf_{(i,j)}=tf_{(i,j)}\\cdot idf_i$\n",
    "\n",
    "#### Calculer ce terme pour l'ensemble des mots du dictionnaire présents dans l'ensemble des documents."
   ]
  },
  {
   "cell_type": "code",
   "execution_count": null,
   "metadata": {
    "collapsed": true
   },
   "outputs": [],
   "source": []
  },
  {
   "cell_type": "markdown",
   "metadata": {},
   "source": [
    "#### Construire un histogramme des td-idf pour l'ensemble des documents"
   ]
  },
  {
   "cell_type": "code",
   "execution_count": null,
   "metadata": {
    "collapsed": true
   },
   "outputs": [],
   "source": []
  },
  {
   "cell_type": "markdown",
   "metadata": {},
   "source": [
    "# Calculer le top 10 IDF pour un mot particulier"
   ]
  },
  {
   "cell_type": "code",
   "execution_count": null,
   "metadata": {
    "inputHidden": false,
    "outputHidden": false
   },
   "outputs": [],
   "source": []
  }
 ],
 "metadata": {
  "kernel_info": {
   "name": "python3"
  },
  "kernelspec": {
   "display_name": "Scala",
   "language": "scala",
   "name": "scala"
  },
  "language_info": {
   "codemirror_mode": "text/x-scala",
   "file_extension": ".scala",
   "mimetype": "text/x-scala",
   "name": "scala",
   "nbconvert_exporter": "script",
   "version": "2.13.1"
  },
  "nteract": {
   "version": "0.11.9"
  }
 },
 "nbformat": 4,
 "nbformat_minor": 2
}
