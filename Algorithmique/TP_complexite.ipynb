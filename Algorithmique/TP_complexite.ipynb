{
 "cells": [
  {
   "cell_type": "markdown",
   "metadata": {},
   "source": [
    "# <p style=\"text-align: center;\">TP - Complexité</p>"
   ]
  },
  {
   "cell_type": "markdown",
   "metadata": {},
   "source": [
    "L’objectif de cette séance est d’effectuer une comparaison des trois algorithmes utilisés pour calculer la suite de Fibonacci afin de voir si la complexité théorique des algorithmes garde son sens en pratique.\n",
    "\n",
    "Vous devez répondre aux questions suivantes en programmant les fonctions demandées ou en indiquant les complexités des algorithmes."
   ]
  },
  {
   "cell_type": "code",
   "execution_count": null,
   "metadata": {
    "collapsed": true
   },
   "outputs": [],
   "source": [
    "import time\n",
    "import numpy as np\n",
    "import matplotlib.pyplot as plt"
   ]
  },
  {
   "cell_type": "markdown",
   "metadata": {},
   "source": [
    "## Partie 1 - programmation des trois algorithmes"
   ]
  },
  {
   "cell_type": "markdown",
   "metadata": {},
   "source": [
    "### Algorithme exponentiel"
   ]
  },
  {
   "cell_type": "raw",
   "metadata": {},
   "source": [
    "Programmer la fonction fibo1 dont le pseudo-code est :\n",
    "fibo1 (n) -- n entier naturel non nul\n",
    "  si n ≤ 2 retourner 1\n",
    "    retourner fibo1(n-1)+fibo1(n-2)"
   ]
  },
  {
   "cell_type": "code",
   "execution_count": null,
   "metadata": {
    "collapsed": true
   },
   "outputs": [],
   "source": [
    "# COMPLETER LE CODE\n",
    "def fibo1(n):"
   ]
  },
  {
   "cell_type": "code",
   "execution_count": null,
   "metadata": {
    "collapsed": true
   },
   "outputs": [],
   "source": [
    "print(fibo1(5),fibo1(10),fibo1(30),fibo1(40)) # 5 55 832040 102334155"
   ]
  },
  {
   "cell_type": "markdown",
   "metadata": {},
   "source": [
    "### Algorithme linéaire"
   ]
  },
  {
   "cell_type": "raw",
   "metadata": {},
   "source": [
    "Programmer la fonction fibo2 dont le pseudo-code est :\n",
    "fibo2 (n) -- n entier naturel non nul\n",
    "  a=1\n",
    "  b=1\n",
    "  pour i allant de 3 à n\n",
    "    b = a+b\n",
    "    a = b-a\n",
    "  retourner b"
   ]
  },
  {
   "cell_type": "code",
   "execution_count": null,
   "metadata": {
    "collapsed": true
   },
   "outputs": [],
   "source": [
    "# COMPLETER LE CODE\n",
    "def fibo2(n):"
   ]
  },
  {
   "cell_type": "code",
   "execution_count": null,
   "metadata": {
    "collapsed": true
   },
   "outputs": [],
   "source": [
    "print(fibo2(5),fibo2(10),fibo2(30),fibo2(40)) # 5 55 832040 102334155"
   ]
  },
  {
   "cell_type": "markdown",
   "metadata": {},
   "source": [
    "### Algorithme logarithmique"
   ]
  },
  {
   "cell_type": "raw",
   "metadata": {},
   "source": [
    "Programmer la fonction product qui fait le produit de 2 matrices 2*2 et retourne la matrice résultat"
   ]
  },
  {
   "cell_type": "code",
   "execution_count": null,
   "metadata": {
    "collapsed": true
   },
   "outputs": [],
   "source": [
    "# COMPLETER LE CODE\n",
    "def product(x,y):"
   ]
  },
  {
   "cell_type": "code",
   "execution_count": null,
   "metadata": {
    "collapsed": true
   },
   "outputs": [],
   "source": [
    "M = [[1,1],[1,0]]\n",
    "product(M,M) # [[2, 1], [1, 1]]"
   ]
  },
  {
   "cell_type": "raw",
   "metadata": {},
   "source": [
    "Programmer la fonction power(A,n) qui calcule la n-ème puissance de la matrice A et dont le pseudo-code est :\n",
    "power(A,n) -- A une matrice, n un entier naturel non nul\n",
    "si n = 1\n",
    "  retourner A\n",
    "si n est pair\n",
    "  retourner power(product(A,A), n/2)\n",
    "retourner product(A, power(product(A,A), (n-1)/2))"
   ]
  },
  {
   "cell_type": "code",
   "execution_count": null,
   "metadata": {
    "collapsed": true
   },
   "outputs": [],
   "source": [
    "# COMPLETER LE CODE\n",
    "def power(x,n):"
   ]
  },
  {
   "cell_type": "code",
   "execution_count": null,
   "metadata": {
    "collapsed": true
   },
   "outputs": [],
   "source": [
    "power(M,7) # [[21, 13], [13, 8]]"
   ]
  },
  {
   "cell_type": "raw",
   "metadata": {},
   "source": [
    "Programmer la fonction fibo3 dont le pseudo-code est :\n",
    "fibo3 (n) -- n entier naturel non nul\n",
    "si n ≤ 2\n",
    "  retourner 1\n",
    "A = power([[1,1],[1,0]], n-1)\n",
    "retourner A(0,0)"
   ]
  },
  {
   "cell_type": "code",
   "execution_count": null,
   "metadata": {
    "collapsed": true
   },
   "outputs": [],
   "source": [
    "# COMPLETER LE CODE\n",
    "def fibo3(n):"
   ]
  },
  {
   "cell_type": "code",
   "execution_count": null,
   "metadata": {
    "collapsed": true
   },
   "outputs": [],
   "source": [
    "print(fibo3(5),fibo3(10),fibo3(30),fibo3(40)) # 5 55 832040 102334155"
   ]
  },
  {
   "cell_type": "markdown",
   "metadata": {},
   "source": [
    "## Comparaison des algorithmes"
   ]
  },
  {
   "cell_type": "markdown",
   "metadata": {},
   "source": [
    "La fonction time.clock permet de mesurer le temps d'éxécution d'une fonction, la fonction plot permet de tracer une courbe, les fonctions smilogx et semilogy permettent de tracer en échelle logarithmique "
   ]
  },
  {
   "cell_type": "code",
   "execution_count": null,
   "metadata": {
    "collapsed": true
   },
   "outputs": [],
   "source": [
    "t = time.clock()\n",
    "fibo1(30)\n",
    "print(time.clock()-t)"
   ]
  },
  {
   "cell_type": "code",
   "execution_count": null,
   "metadata": {
    "collapsed": true
   },
   "outputs": [],
   "source": [
    "plt.plot(np.array([1, 3, 4, 6]),np.array([2, 3, 5, 1]))\n",
    "plt.show()\n",
    "plt.semilogy(np.array([1, 3, 4, 6]),np.array([2, 3, 5, 1]))\n",
    "plt.show()"
   ]
  },
  {
   "cell_type": "markdown",
   "metadata": {},
   "source": [
    "Ecrire le code nécessaire pour tracer les courbes du temps d'exécution en fonction de la taille de l'entrée pour fibo1, fibo2 et fibo3."
   ]
  },
  {
   "cell_type": "code",
   "execution_count": null,
   "metadata": {
    "collapsed": true
   },
   "outputs": [],
   "source": [
    "# COMPLETER LE CODE\n"
   ]
  },
  {
   "cell_type": "markdown",
   "metadata": {},
   "source": [
    "On souhaite maintenant calculer tous les nombres de Fibonacci pour i allant de 1 à n sans modifier les algorithmes précédents (juste avec une boucle for). Refaites les courbes et indiquez les complexités correspondantes.\n",
    "Peut-on faire mieux si on peut modifier les trois algorithmes ? Indiquez les complexités."
   ]
  },
  {
   "cell_type": "markdown",
   "metadata": {},
   "source": [
    "REPONSE :\n"
   ]
  }
 ],
 "metadata": {
  "kernelspec": {
   "display_name": "Python 3",
   "language": "python",
   "name": "python3"
  },
  "language_info": {
   "codemirror_mode": {
    "name": "ipython",
    "version": 3
   },
   "file_extension": ".py",
   "mimetype": "text/x-python",
   "name": "python",
   "nbconvert_exporter": "python",
   "pygments_lexer": "ipython3",
   "version": "3.6.8"
  }
 },
 "nbformat": 4,
 "nbformat_minor": 2
}
