{
 "cells": [
  {
   "cell_type": "markdown",
   "metadata": {},
   "source": [
    "# TEA graphes et complexité"
   ]
  },
  {
   "cell_type": "markdown",
   "metadata": {},
   "source": [
    "Nom étudiant 1 : Sartre Anthonin\n",
    "\n",
    "Nom étudiant 2 : Blanchard Baptiste"
   ]
  },
  {
   "cell_type": "markdown",
   "metadata": {},
   "source": [
    "<b>Remarques générales :</b>\n",
    "- Les salles de TP PCM SC6 et SC7 sont réservées pour un travail en autonomie (vérifiez d'éventuelles modifications d'emploi du temps). Votre présence dans ces salles n’est pas obligatoire. Si les salles ne sont pas suffisament utilisées on n'en gardera qu'une.\n",
    "- Un forum de discussion est mis à disposition pour toute question/précision. Un enseignant est disponible pendant toutes les séances mais pas forcément dans la salle : si besoin il peut venir sinon il répondra sur le forum dans un délai très rapide. Hors séances les réponses sur le forum peuvent prendre plus de temps.\n",
    "- Ce TEA est à réaliser en <b>binôme</b>. Si vous travaillez à 3 la notation sera plus stricte.\n",
    "\n",
    "- Vous devez faire 3 dépots de ce fichier en le renommant etudiant1-etudiant2-depotx.ipynb (en remplaçant étudiant1 et 2 par vos noms de famille et x par 1, 2 ou 3). Pour chaque dépôt vous devrez compléter le fichier un peu plus.\n",
    "- Les dates de rendu sont les suivantes : partie 1 = 4 octobre, partie 2 = 11 octobre, partie 3 et compléments = 25 octobre.\n",
    "- Les questions marquées <b>complémentaire</b> doivent être rendues dans le dernier dépôt (on ne les regardera pas avant le dernier dépôt).\n",
    "\n",
    "- Si vous oubliez un dépôt, si le fichier est compressé, mal nommé, si vous travaillez à plus de 3, si vous plagiez des documents sur Internet sans citer vos sources, etc. => 0 sur le dépôt correspondant + sanctions éventuelles."
   ]
  },
  {
   "cell_type": "markdown",
   "metadata": {},
   "source": [
    "## Partie 1 : Algorithme de Disjktra - <font color=\"red\">Rendu le 4 octobre</font>\n",
    "\n",
    "On considère l'algorithme de Dijkstra dont le pseudo-code est donné ci-dessous (en cas de doute vérifiez le pseudo-code sur une source fiable) :"
   ]
  },
  {
   "cell_type": "raw",
   "metadata": {},
   "source": [
    "Entrée : un graphe pondéré G=(S,A,w) et un sommet origine u\n",
    "Sortie : le poids du plus court chemin entre u et v pour chaque sommet v de G\n",
    "\t\n",
    "Initialiser un tableau T d’estimation des plus courts chemins\n",
    "Pour chaque sommet v de G\n",
    "  T[v] = ∞\n",
    "T[u] = 0\n",
    "Initialiser le container L des sommets à traiter avec l’ensemble S\n",
    "Tant que L n’est pas vide\n",
    "  Extraire de L le sommet u tel que T[u] est minimal\n",
    "  Pour chaque voisin v de u\n",
    "    si (T(v) > T(u) + w(u,v))\n",
    "      T(v) = T(u) + w(u,v)\n",
    "Retourner T"
   ]
  },
  {
   "cell_type": "markdown",
   "metadata": {},
   "source": [
    "Créez plusieurs graphes (chacun avec 5 à 10 sommets) permettant de représenter différentes situations (graphe non connexe, arêtes multiples, boucles, graphes ayant plusieurs plus courts chemins, etc.). Ces graphes seront utilisés pour tester vos algorithmes. Attention Dijkstra utilise des graphes pondérés."
   ]
  },
  {
   "cell_type": "code",
   "execution_count": 251,
   "metadata": {},
   "outputs": [],
   "source": [
    "%matplotlib inline\n",
    "import matplotlib.pyplot as plt\n",
    "from networkx import nx\n",
    "import random\n",
    "\n",
    "G1 = [(1,2,6),(1,3,2),(3,4,1),(3,5,7),(3,6,9),(1,4,3),(4,7,9),(1,8,3),(7,9,5)]\n",
    "G2 = [(1,2,1),(2,3,2),(3,4,3),(4,5,4),(5,6,5)]\n",
    "G3 = [(1,2,1),(1,3,5),(1,4,6),(1,5,3),(2,6,6),(2,7,5),(2,8,9)]\n",
    "G4 = [(1,2,6),(1,3,6),(1,4,9),(1,9,9),(2,5,4),(2,9,8),(2,4,1),(2,8,5),(3,5,5),(3,10,8),(9,4,7),(9,7,4),(9,10,1),(7,5,8),(4,6,2),(8,7,14),(8,6,9),(4,10,1),(10,7,7),(7,6,8)]\n",
    "\n",
    "def graph(listeArc):\n",
    "    G = nx.Graph()\n",
    "    G.add_weighted_edges_from(listeArc)\n",
    "    return G\n",
    "\n",
    "def drawGraph(G):\n",
    "    pos=nx.spring_layout(G)\n",
    "    labels = nx.get_edge_attributes(G,'weight')\n",
    "    nx.draw_networkx_edge_labels(G, pos, edge_labels = labels)\n",
    "    nx.draw_networkx(G, pos)\n",
    "    plt.show()\n",
    "    \n",
    "def drawDijkstra(G,u):\n",
    "        drawGraph(G)\n",
    "        print(dijkstra(G,u))"
   ]
  },
  {
   "cell_type": "markdown",
   "metadata": {},
   "source": [
    "Exécutez l’algorithme de Dijkstra à la main sur un de vos graphes et donnez les valeurs des estimations du tableau T à chaque étape de l’algorithme."
   ]
  },
  {
   "cell_type": "code",
   "execution_count": 253,
   "metadata": {},
   "outputs": [
    {
     "name": "stderr",
     "output_type": "stream",
     "text": [
      "/usr/lib/python3/dist-packages/networkx/drawing/nx_pylab.py:861: MatplotlibDeprecationWarning: The is_string_like function was deprecated in version 2.1.\n",
      "  if not cb.is_string_like(label):\n",
      "/usr/lib/python3/dist-packages/networkx/drawing/nx_pylab.py:522: MatplotlibDeprecationWarning: The is_string_like function was deprecated in version 2.1.\n",
      "  if not cb.is_string_like(edge_color) \\\n",
      "/usr/lib/python3/dist-packages/networkx/drawing/nx_pylab.py:543: MatplotlibDeprecationWarning: The is_string_like function was deprecated in version 2.1.\n",
      "  if cb.is_string_like(edge_color) or len(edge_color) == 1:\n",
      "/usr/lib/python3/dist-packages/networkx/drawing/nx_pylab.py:724: MatplotlibDeprecationWarning: The is_string_like function was deprecated in version 2.1.\n",
      "  if not cb.is_string_like(label):\n"
     ]
    },
    {
     "data": {
      "image/png": "[encoded data removed]",
      "text/plain": [
       "<matplotlib.figure.Figure at 0x7f534e6395c0>"
      ]
     },
     "metadata": {},
     "output_type": "display_data"
    }
   ],
   "source": [
    "# Execution et explications\n",
    "\n",
    "# test sur G3 = [(1,2,1),(1,3,5),(1,4,6),(1,5,3),(2,6,6),(2,7,5),(2,8,9)]\n",
    "        #T de 2 a 8 = ∞\n",
    "        #T[1] = 0\n",
    "        #L = S\n",
    "\n",
    "    #tour 1\n",
    "        #T = [1:0,2:∞,3:∞,4:∞,5:∞,6:∞,7:∞,8:∞]\n",
    "        #T[1] est minimal\n",
    "        #L = [1,2,3,4,5,6,7,8]\n",
    "        #on retire le sommet 1 de L\n",
    "        #valeurs de v = [2,3,4,5]\n",
    "            #T[2] > T[1] +w(1,2) == ∞ > 0 + 1\n",
    "                #T[2] = 1\n",
    "            #T[3] > T[1] +w(1,3) == ∞ > 0 + 5\n",
    "                #T[3] = 5\n",
    "            #T[4] > T[1] +w(1,4) == ∞ > 0 + 6\n",
    "                #T[4] = 6\n",
    "            #T[5] > T[1] + w(1,5) == ∞ > 0 + 3\n",
    "                #T[5] = 3\n",
    "\n",
    "    #tour 2\n",
    "        #T = [1:0,2:1,3:5,4:6,5:3,6:∞,7:∞,8:∞]\n",
    "        #T[2] est minimal\n",
    "        #L = [2,3,4,5,6,7,8]\n",
    "        #on retire le sommet 2 de L\n",
    "        #valeurs de v = [1,6,7,8]\n",
    "            #T[1] > T[2] +w(2,1) == 1 > 1 + 1\n",
    "            #T[6] > T[2] +w(2,6) == ∞ > 1 + 6\n",
    "                #T[6] = 7\n",
    "            #T[7] > T[2] +w(2,7) == ∞ > 1 + 5\n",
    "                #T[7] = 6\n",
    "            #T[8] > T[2] +w(2,8) == ∞ > 1 + 9\n",
    "                #T[8] = 10\n",
    "\n",
    "    #tour 3\n",
    "        #T = [1:0,2:1,3:5,4:6,5:3,6:7,7:6,8:10]\n",
    "        #T[5] est minimal\n",
    "        #L = [3,4,5,6,7,8]\n",
    "        #on retire le sommet 5 de L\n",
    "        #valeurs de v = [1]\n",
    "            #T[1] > T[5] +w(5,1) == 0 > 1 + 3\n",
    "\n",
    "    #tour 4\n",
    "        #T = [1:0,2:1,3:5,4:6,5:3,6:7,7:6,8:10]\n",
    "        #T[3] est minimal\n",
    "        #L = [3,4,6,7,8]\n",
    "        #on retire le sommet 3 de L\n",
    "        #valeurs de v = 1\n",
    "            #T[1] > T[3] +w(3,1) == 0 > 5 + 5\n",
    "\n",
    "    #tour 5\n",
    "        #T = [1:0,2:1,3:5,4:6,5:3,6:7,7:6,8:10]\n",
    "        #T[4] est minimal\n",
    "        #L = [4,6,7,8]\n",
    "        #on retire le sommet 4 de L\n",
    "        #valeurs de v = 1\n",
    "            #T[1] > T[4] +w(4,1) == 0 > 6 + 6\n",
    "            \n",
    "    #tour 6\n",
    "        #T = [1:0,2:1,3:5,4:6,5:3,6:7,7:6,8:10]\n",
    "        #T[7] est minimal\n",
    "        #L = [6,7,8]\n",
    "        #on retire le sommet 7 de L\n",
    "        #valeurs de v = 2\n",
    "            #T[2] > T[7] +w(2,7) == 1 > 6 + 5\n",
    "\n",
    "    #tour 7\n",
    "        #T = [1:0,2:1,3:5,4:6,5:3,6:7,7:6,8:10]\n",
    "        #T[6] est minimal\n",
    "        #L = [6,8]\n",
    "        #on retire le sommet 6 de L\n",
    "        #valeurs de v = 2\n",
    "            #T[2] > T[6] +w(2,6) == 1 > 7 + 6\n",
    "\n",
    "    #tour 8\n",
    "        #T = [1:0,2:1,3:5,4:6,5:3,6:7,7:6,8:10]\n",
    "        #T[6] est minimal\n",
    "        #L = [8]\n",
    "        #on retire le sommet 8 de L\n",
    "        #valeurs de v = 2\n",
    "            #T[2] > T[8] +w(2,8) == 1 > 10 + 9\n",
    "\n",
    "    #tour 9\n",
    "        # L est vide\n",
    "        # T = [1:0,2:1,3:5,4:6,5:3,6:7,7:6,8:10]\n",
    "        \n",
    "drawGraph(graph(G3))"
   ]
  },
  {
   "cell_type": "markdown",
   "metadata": {},
   "source": [
    "Implémentez en Python l’algorithme de Dijkstra et testez-le sur vos graphes."
   ]
  },
  {
   "cell_type": "code",
   "execution_count": 229,
   "metadata": {},
   "outputs": [],
   "source": [
    "# Implémentation de l'algorithme de Dijkstra\n",
    "\n",
    "def dijkstra(G,u):\n",
    "    T = {}\n",
    "    for v in G.nodes():\n",
    "        T[v] = float(\"inf\")\n",
    "    T[u] = 0\n",
    "    L = dict(G.nodes(data='weight'))\n",
    "    while(bool(L)==True):\n",
    "        min = None\n",
    "        for i in L.keys():\n",
    "            if (min is None): min = i\n",
    "            if ((T[i] <= T[min])): min = i\n",
    "        del L[min]\n",
    "        for i in (G.neighbors(min)):\n",
    "            if(T[i]>(T[min]+G[i][min]['weight'])):\n",
    "                T[i] = T[min] + G[i][min]['weight']\n",
    "    return T"
   ]
  },
  {
   "cell_type": "code",
   "execution_count": 252,
   "metadata": {},
   "outputs": [
    {
     "name": "stderr",
     "output_type": "stream",
     "text": [
      "/usr/lib/python3/dist-packages/networkx/drawing/nx_pylab.py:861: MatplotlibDeprecationWarning: The is_string_like function was deprecated in version 2.1.\n",
      "  if not cb.is_string_like(label):\n",
      "/usr/lib/python3/dist-packages/networkx/drawing/nx_pylab.py:522: MatplotlibDeprecationWarning: The is_string_like function was deprecated in version 2.1.\n",
      "  if not cb.is_string_like(edge_color) \\\n",
      "/usr/lib/python3/dist-packages/networkx/drawing/nx_pylab.py:543: MatplotlibDeprecationWarning: The is_string_like function was deprecated in version 2.1.\n",
      "  if cb.is_string_like(edge_color) or len(edge_color) == 1:\n",
      "/usr/lib/python3/dist-packages/networkx/drawing/nx_pylab.py:724: MatplotlibDeprecationWarning: The is_string_like function was deprecated in version 2.1.\n",
      "  if not cb.is_string_like(label):\n"
     ]
    },
    {
     "data": {
      "image/png": "[encoded data removed]",
      "text/plain": [
       "<matplotlib.figure.Figure at 0x7f534e430e10>"
      ]
     },
     "metadata": {},
     "output_type": "display_data"
    },
    {
     "name": "stdout",
     "output_type": "stream",
     "text": [
      "{1: 6, 2: 0, 3: 8, 4: 9, 5: 15, 6: 17, 7: 18, 8: 9, 9: 23}\n"
     ]
    }
   ],
   "source": [
    "# Tests de l'algorithme de Dijkstra\n",
    "drawDijkstra(graph(G1),2)"
   ]
  },
  {
   "cell_type": "markdown",
   "metadata": {},
   "source": [
    "Proposez une modification de l’algorithme permettant de calculer le plus court chemin entre deux sommets u et v du graphe. Ecrivez cet algorithme en pseudo-code, puis implémentez-le et testez-le."
   ]
  },
  {
   "cell_type": "code",
   "execution_count": 268,
   "metadata": {},
   "outputs": [
    {
     "ename": "SyntaxError",
     "evalue": "invalid syntax (<ipython-input-268-b901ad94408e>, line 3)",
     "output_type": "error",
     "traceback": [
      "\u001b[0;36m  File \u001b[0;32m\"<ipython-input-268-b901ad94408e>\"\u001b[0;36m, line \u001b[0;32m3\u001b[0m\n\u001b[0;31m    Entrée : un graphe pondéré G=(S,A,w), un sommet origine u et et le sommet cible v\u001b[0m\n\u001b[0m                     ^\u001b[0m\n\u001b[0;31mSyntaxError\u001b[0m\u001b[0;31m:\u001b[0m invalid syntax\n"
     ]
    }
   ],
   "source": [
    "# Pseudo-code de la version étendue et justifications si nécessaire\n",
    "\n",
    "#Entrée : un graphe pondéré G=(S,A,w), un sommet origine u et et le sommet cible v\n",
    "#Sortie : Un tableau contenant le chemin le plus court reliant u et v\n",
    "\n",
    "#Initialiser un tableau T d’estimation des plus courts chemins\n",
    "#Initialiser un tableau prev des sommets avec le plus court chemin parcouru\n",
    "#Pour chaque sommet i de G\n",
    "    #T[i] = ∞\n",
    "    #Prev[i] = None\n",
    "#T[u] = 0\n",
    "#Initialiser le container L des sommets à traiter avec l’ensemble S\n",
    "#Tant que L n’est pas vide\n",
    "    #Extraire de L le sommet u tel que T[u] est minimal dans min\n",
    "    #Si T[min] = T[v]\n",
    "        #Initialiser un tableau S du plus court chemin entre u et v\n",
    "        #Tant que v est différent de None\n",
    "            #insérer v au au début de S\n",
    "            #v = prev[v]\n",
    "        #retouner l'inverse de S //Pour remettre le chemin dans le bon sens\n",
    "    #Pour chaque voisin i de G\n",
    "    #si (T(i) > T(min) + w(i,min))\n",
    "        #T(i) = T(min) + w(i,min)\n",
    "        #prev[i] = min\n",
    "#Retourner T\n",
    "\n",
    "#Source: https://en.wikipedia.org/wiki/Dijkstra%27s_algorithm#Pseudocode"
   ]
  },
  {
   "cell_type": "code",
   "execution_count": 276,
   "metadata": {},
   "outputs": [],
   "source": [
    "# Implémentation de l'algorithme de Dijkstra étendu\n",
    "def dijkstra2(G, u, v):\n",
    "    T = {}\n",
    "    prev = {}\n",
    "    for i in G.nodes():\n",
    "        T[i] = float(\"inf\")\n",
    "        prev[i] = None\n",
    "    T[u] = 0\n",
    "    L = dict(G.nodes(data='weight'))\n",
    "    while(bool(L)==True):\n",
    "        min = None\n",
    "        for i in L.keys():\n",
    "            if (min is None): min = i\n",
    "            if ((T[i] <= T[min])): min = i\n",
    "        del L[min]\n",
    "        if(T[min] == T[v]):\n",
    "            S = []\n",
    "            while(v != None):\n",
    "                S.append(v)\n",
    "                v = prev[v]\n",
    "            return S[::-1]\n",
    "        for i in (G.neighbors(min)):\n",
    "            if(T[i]>(T[min]+G[i][min]['weight'])):\n",
    "                T[i] = T[min] + G[i][min]['weight']\n",
    "                prev[i] = min\n",
    "    return T"
   ]
  },
  {
   "cell_type": "code",
   "execution_count": 275,
   "metadata": {},
   "outputs": [
    {
     "data": {
      "text/plain": [
       "['BP', 'BN', 'BK', 'BJ']"
      ]
     },
     "execution_count": 275,
     "metadata": {},
     "output_type": "execute_result"
    }
   ],
   "source": [
    "# Tests de l'algorithme de Dijkstra étendu\n",
    "dijkstra2(graph(G0),'BP','BJ')"
   ]
  },
  {
   "cell_type": "markdown",
   "metadata": {},
   "source": [
    "Proposez et testez des fonctions pour\n",
    "- visualiser le graphe\n",
    "- visualiser le chemin obtenu\n",
    "- visualiser la manière dont le graphe est exploré par l'algorithme"
   ]
  },
  {
   "cell_type": "code",
   "execution_count": null,
   "metadata": {
    "collapsed": true
   },
   "outputs": [],
   "source": [
    "# Visualisation du graphe\n"
   ]
  },
  {
   "cell_type": "code",
   "execution_count": null,
   "metadata": {
    "collapsed": true
   },
   "outputs": [],
   "source": [
    "# Visualisation du résultat\n"
   ]
  },
  {
   "cell_type": "code",
   "execution_count": null,
   "metadata": {
    "collapsed": true
   },
   "outputs": [],
   "source": [
    "# Visualisation du fonctionnement de l'algorithme\n"
   ]
  },
  {
   "cell_type": "markdown",
   "metadata": {},
   "source": [
    "<b>Complémentaire</b> - Calculez la complexité de l’algorithme dans la version simple et la version étendue. Montrez l'impact de la structure de données L utilisée pour stocker les sommets (liste chaînée, table de hachage, arbre binaire de recherche…) sur la complexité."
   ]
  },
  {
   "cell_type": "code",
   "execution_count": null,
   "metadata": {
    "collapsed": true
   },
   "outputs": [],
   "source": [
    "# Calcul et justification de la complexité\n"
   ]
  },
  {
   "cell_type": "code",
   "execution_count": null,
   "metadata": {
    "collapsed": true
   },
   "outputs": [],
   "source": [
    "# Arguments sur les différentes structures de données pouvant être utilisées\n"
   ]
  },
  {
   "cell_type": "markdown",
   "metadata": {},
   "source": [
    "## Partie 2 : Plus courts chemins simples dans le métro parisien - <font color=\"red\">Rendu le 11 octobre</font>\n",
    "\n",
    "Vous devez ici proposer des méthodes permettant de calculer des plus courts chemins dans le métro parisien. L’objectif est que l’utilisateur puisse choisir une station de départ et une station d’arrivée et que le logiciel lui indique un plus court trajet (entre terme de distance dans le graphe) entre ces deux stations.\n",
    "\n",
    "Le fichier <b><font color=\"red\">metro.graph</font></b> (disponible sous moodle, format indiqué ci-dessous) contient toutes les stations et connexions entre stations dans le métro :\n",
    "- Chaque sommet correspond à une station pour une ligne donnée (par exemple, République [ligne 3] et République [ligne 5] sont deux sommets différents). A chaque sommet est associé le nom de la station (chaîne de caractères) et la position de la station sur une carte (échelle : 1~25.7m).\n",
    "- Un arc orienté et valué connecte deux sommets si le métro relie directement les stations correspondantes. Le graphe n'est pas symétrique à cause de quelques \"sens uniques\", par exemple du côté de la porte d'Auteuil. Les arcs sont valués par le temps estimé du trajet en secondes (en prenant pour base une vitesse moyenne de 10m/s, soit 36km/h).\n",
    "- Deux arcs symétriques connectent deux sommets s'il est possible de passer à pied sans changer de billet entre les stations correspondantes. Ces arcs sont alors valués par une estimation du temps moyen de trajet et d'attente (120s)."
   ]
  },
  {
   "cell_type": "markdown",
   "metadata": {},
   "source": [
    "Construction du graphe : vous devez implémentez les outils pour (i) lire le fichier, (ii) construire le graphe valué et orienté correspondant aux liaisons entre les stations de métro"
   ]
  },
  {
   "cell_type": "code",
   "execution_count": null,
   "metadata": {
    "collapsed": true
   },
   "outputs": [],
   "source": [
    "# Une ou plusieurs fonctions pour lire le fichier et construire le graphe\n"
   ]
  },
  {
   "cell_type": "markdown",
   "metadata": {},
   "source": [
    "Exemple de calculs de plus courts chemins : montrez avec des exemples d’appels à Dijkstra et Dijkstra étendu sur le graphe du métro que tout est correct."
   ]
  },
  {
   "cell_type": "code",
   "execution_count": 45,
   "metadata": {
    "collapsed": true
   },
   "outputs": [],
   "source": [
    "# Plusieurs appels à Dijkstra et Dijkstra étendu\n"
   ]
  },
  {
   "cell_type": "markdown",
   "metadata": {},
   "source": [
    "<b>Complémentaire</b> : Proposer une méthode de visualisation du graphe et du/des chemins qui devra prendre en compte les coordonnées géographiques."
   ]
  },
  {
   "cell_type": "code",
   "execution_count": null,
   "metadata": {
    "collapsed": true
   },
   "outputs": [],
   "source": [
    "# Code pour visualiser avec prise en compte des coordonnées géographiques\n"
   ]
  },
  {
   "cell_type": "markdown",
   "metadata": {},
   "source": [
    "## Partie 3 : Autres plus courts chemins simples dans le métro parisien - <font color=\"red\">Rendu le 25 octobre</font>\n",
    "\n",
    "La méthode de Dijkstra est très générale et ne prend pas du tout en compte la spécificité du métro parisien, ou encore les coordonnées géographiques des sommets.\n",
    "\n",
    "L’objectif de cette partie est de modifier votre code pour proposer plusieurs autres notions de plus courts chemins :\n",
    "-\tNombre minimal de stations traversées\n",
    "-\tNombre minimal de correspondances\n",
    "- Chemins à mobilité réduite (fauteuil, poussette, valise, ...)\n",
    "-\tChemins alternatifs (en cas de panne ou d'influence trop forte) \n",
    "- Chemin qui se \"rapproche\" géographiquement de la destination\n",
    "-\tEtc.\n",
    "\n"
   ]
  },
  {
   "cell_type": "markdown",
   "metadata": {},
   "source": [
    "Implémentez la recherche de plus courts chemins avec d'autres mesures du plus court chemin. Prenez soin de bien identifier ce qui relève de l'algorithme et ce qui relève de la construction du graphe. Par exemple s'il suffit de modifier les pondérations des arcs du graphe et d'utiliser la version de Dijkstra de la partie 1 alors vous devez proposer une fonction qui modifie les poids du graphe plutôt que de modifier l'algorithme..."
   ]
  },
  {
   "cell_type": "code",
   "execution_count": 46,
   "metadata": {
    "collapsed": true
   },
   "outputs": [],
   "source": [
    "# Plusieurs implémentations et tests\n"
   ]
  },
  {
   "cell_type": "markdown",
   "metadata": {},
   "source": [
    "Proposez l'algorithme et une implémentation pour trouver au moins un chemin alternatif (par exemple le deuxième plus court ou un autre plus court s’il y en a plusieurs)."
   ]
  },
  {
   "cell_type": "code",
   "execution_count": null,
   "metadata": {
    "collapsed": true
   },
   "outputs": [],
   "source": [
    "# Algorithme pour trouver le 2e chemin le plus court\n"
   ]
  },
  {
   "cell_type": "code",
   "execution_count": null,
   "metadata": {
    "collapsed": true
   },
   "outputs": [],
   "source": [
    "# Implémentation pour proposer le 2e (ou les k plus courts) chemin alternatif \n"
   ]
  },
  {
   "cell_type": "markdown",
   "metadata": {},
   "source": [
    "<b>Complémentaire</b> : La méthode de Dijkstra est très générale et ne prend pas du temps en compte les coordonnées géographiques des sommets. Or, de manière générale quand on cherche un plus court chemin on va probablement privilégier des chemins qui nous rapprochent de la destination et ce, de manière heuristique. Pour pallier ce problème nous allons utiliser l'algorithme A\\* (à vous de trouver des explications et le pseudo-code si nécessaire) qui consiste à privilégier les chemins qui vont dans la direction (géographique) de la destination.\n",
    "- Proposez une implémentation de A\\*\n",
    "- Testez là\n",
    "- Comparez le déroulement de l'algorithme avec Dijkstra."
   ]
  },
  {
   "cell_type": "code",
   "execution_count": null,
   "metadata": {
    "collapsed": true
   },
   "outputs": [],
   "source": [
    "# Implémentation de A*\n"
   ]
  },
  {
   "cell_type": "code",
   "execution_count": null,
   "metadata": {
    "collapsed": true
   },
   "outputs": [],
   "source": [
    "# Tests de l'algorithme\n"
   ]
  },
  {
   "cell_type": "code",
   "execution_count": null,
   "metadata": {
    "collapsed": true
   },
   "outputs": [],
   "source": [
    "# Illustrations du résultat obtenu et comparaisons du déroulement de l'exécution avec Dijkstra\n"
   ]
  },
  {
   "cell_type": "markdown",
   "metadata": {},
   "source": [
    "<b>Complémentaire</b> : Une autre solution consiste à démarrer Dijkstra à la fois en avant depuis la source et en arrière depuis la destination. Dès que les deux recherches se rejoignent on s'arrête.\n",
    "- Justifiez pourquoi cette solution est intuitivement plus efficace qu'une exploration simple\n",
    "- Implémentez cette solution\n",
    "- Comparez les résultats avec Dijkstra"
   ]
  },
  {
   "cell_type": "code",
   "execution_count": null,
   "metadata": {
    "collapsed": true
   },
   "outputs": [],
   "source": [
    "# Justification de la pertinence de cette solution\n"
   ]
  },
  {
   "cell_type": "code",
   "execution_count": null,
   "metadata": {
    "collapsed": true
   },
   "outputs": [],
   "source": [
    "# Implémentation\n"
   ]
  },
  {
   "cell_type": "code",
   "execution_count": null,
   "metadata": {
    "collapsed": true
   },
   "outputs": [],
   "source": [
    "# Comparaison avec Dijkstra\n"
   ]
  },
  {
   "cell_type": "markdown",
   "metadata": {},
   "source": [
    "<b>Complémentaire</b> : Quelles autres solutions pourriez-vous proposer pour améliorer encore la recherche ? On ne demande pas d'implémentation ni d'algorithme, juste des intuitions."
   ]
  },
  {
   "cell_type": "code",
   "execution_count": null,
   "metadata": {
    "collapsed": true
   },
   "outputs": [],
   "source": [
    "# Idées et intuitions\n"
   ]
  }
 ],
 "metadata": {
  "kernelspec": {
   "display_name": "Python 3",
   "language": "python",
   "name": "python3"
  },
  "language_info": {
   "codemirror_mode": {
    "name": "ipython",
    "version": 3
   },
   "file_extension": ".py",
   "mimetype": "text/x-python",
   "name": "python",
   "nbconvert_exporter": "python",
   "pygments_lexer": "ipython3",
   "version": "3.6.8"
  }
 },
 "nbformat": 4,
 "nbformat_minor": 2
}
