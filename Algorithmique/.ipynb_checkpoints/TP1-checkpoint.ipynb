{
 "cells": [
  {
   "cell_type": "markdown",
   "metadata": {},
   "source": [
    "# Analyse de Données - Développeur\n",
    "## TP1 : Tableaux et Espaces\n",
    "### 1) Téléchargez les fichier \"td1.txt\", puis exécutez le code ci-dessous."
   ]
  },
  {
   "cell_type": "code",
   "execution_count": 2,
   "metadata": {},
   "outputs": [
    {
     "name": "stdout",
     "output_type": "stream",
     "text": [
      "X =\n",
      " [[ 3. -1.]\n",
      " [-1.  2.]\n",
      " [ 4.  2.]]\n"
     ]
    }
   ],
   "source": [
    "import numpy as np\n",
    "X = np.loadtxt(\"td1.txt\")\n",
    "print(\"X =\\n\",X)"
   ]
  },
  {
   "cell_type": "markdown",
   "metadata": {},
   "source": [
    "### 2) Affectez les dimensions du tableau à deux variables $n$ et $p$."
   ]
  },
  {
   "cell_type": "code",
   "execution_count": 5,
   "metadata": {
    "scrolled": true
   },
   "outputs": [
    {
     "name": "stdout",
     "output_type": "stream",
     "text": [
      "3\n",
      "2\n"
     ]
    }
   ],
   "source": [
    "n = len(X)\n",
    "p = len(X[0])\n",
    "\n",
    "print(n)\n",
    "print(p)"
   ]
  },
  {
   "cell_type": "markdown",
   "metadata": {},
   "source": [
    "### 3) Trouvez le moyen de centrer le tableau. Vous noterez *Xp* le tableau résultat. "
   ]
  },
  {
   "cell_type": "code",
   "execution_count": 61,
   "metadata": {},
   "outputs": [
    {
     "name": "stdout",
     "output_type": "stream",
     "text": [
      "[[ 1. -2.]\n",
      " [-3.  1.]\n",
      " [ 2.  1.]]\n"
     ]
    }
   ],
   "source": [
    "Xb = np.mean(X,axis=0)\n",
    "Xc = X-Xb\n",
    "print(Xc)"
   ]
  },
  {
   "cell_type": "markdown",
   "metadata": {},
   "source": [
    "### 4) Créez la métrique $D$ de l'espace des variables à partir de la matrice Identité."
   ]
  },
  {
   "cell_type": "code",
   "execution_count": 30,
   "metadata": {},
   "outputs": [
    {
     "name": "stdout",
     "output_type": "stream",
     "text": [
      "[[0.33333333 0.         0.        ]\n",
      " [0.         0.33333333 0.        ]\n",
      " [0.         0.         0.33333333]]\n"
     ]
    }
   ],
   "source": [
    "D = 1/n*np.eye(n)\n",
    "\n",
    "print(D)"
   ]
  },
  {
   "cell_type": "markdown",
   "metadata": {},
   "source": [
    "### 5) Calculez la $D$-norme de la 2ème variable par produit scalaire. "
   ]
  },
  {
   "cell_type": "code",
   "execution_count": null,
   "metadata": {},
   "outputs": [],
   "source": []
  },
  {
   "cell_type": "markdown",
   "metadata": {},
   "source": [
    "### 6) Généralisez par produit matriciel. Vous noterez *V* résultat."
   ]
  },
  {
   "cell_type": "code",
   "execution_count": 68,
   "metadata": {},
   "outputs": [
    {
     "name": "stdout",
     "output_type": "stream",
     "text": [
      "[[ 4.66666667 -1.        ]\n",
      " [-1.          2.        ]]\n"
     ]
    }
   ],
   "source": [
    "V = np.transpose(Xc).dot(D).dot(Xc)\n",
    "\n",
    "print(V)"
   ]
  },
  {
   "cell_type": "markdown",
   "metadata": {},
   "source": [
    "### 7) Trouvez le moyen de contruire le tableau centré-réduit que vous noterez *Xs*. "
   ]
  },
  {
   "cell_type": "code",
   "execution_count": 70,
   "metadata": {},
   "outputs": [
    {
     "name": "stdout",
     "output_type": "stream",
     "text": [
      "[[ 0.46291005 -1.41421356]\n",
      " [-1.38873015  0.70710678]\n",
      " [ 0.9258201   0.70710678]]\n"
     ]
    }
   ],
   "source": [
    "Xs = Xc/np.sqrt(np.diag(V))\n",
    "\n",
    "print(Xs)"
   ]
  },
  {
   "cell_type": "markdown",
   "metadata": {},
   "source": [
    "### 8) Reprenez la généralisation (question 7) sur le tableau *Xs*. Qu'obtient-on ? "
   ]
  },
  {
   "cell_type": "code",
   "execution_count": 66,
   "metadata": {},
   "outputs": [
    {
     "name": "stdout",
     "output_type": "stream",
     "text": [
      "[[ 1.         -0.32732684]\n",
      " [-0.32732684  1.        ]]\n"
     ]
    }
   ],
   "source": [
    "Vcr = np.transpose(Xs).dot(D).dot(Xs)\n",
    "\n",
    "print(Vcr)"
   ]
  },
  {
   "cell_type": "markdown",
   "metadata": {},
   "source": [
    "### 9) A l'aide des attributs (ou propriétés), retrouvez le centre du nuage, les matrices de covariance et de corrélations des données. "
   ]
  },
  {
   "cell_type": "code",
   "execution_count": null,
   "metadata": {},
   "outputs": [],
   "source": []
  },
  {
   "cell_type": "markdown",
   "metadata": {},
   "source": [
    "### 10) Ecrivez une fonction permettant de :\n",
    "#### - centrer et optionnellement réduire un tableau *data*\n",
    "#### - retourner les données transformées et la matrice de covariance de celles-ci\n",
    "#### Vous testerez sur le tableau *X*, puis sur le tableau *Xp*, et retrouvez les résultats de TD."
   ]
  },
  {
   "cell_type": "code",
   "execution_count": 3,
   "metadata": {},
   "outputs": [],
   "source": [
    "def standardize(data,scale=False):\n",
    "# complétez\n",
    "# ...\n",
    "    return       # complétez"
   ]
  },
  {
   "cell_type": "code",
   "execution_count": null,
   "metadata": {},
   "outputs": [],
   "source": []
  }
 ],
 "metadata": {
  "kernelspec": {
   "display_name": "Python 3",
   "language": "python",
   "name": "python3"
  },
  "language_info": {
   "codemirror_mode": {
    "name": "ipython",
    "version": 3
   },
   "file_extension": ".py",
   "mimetype": "text/x-python",
   "name": "python",
   "nbconvert_exporter": "python",
   "pygments_lexer": "ipython3",
   "version": "3.6.8"
  }
 },
 "nbformat": 4,
 "nbformat_minor": 2
}
