{
 "cells": [
  {
   "cell_type": "markdown",
   "metadata": {},
   "source": [
    "# Analyse de Données - Développeur\n",
    "## TP2 : Réduction de la Dimensionnalité - Analyse en Composantes Principales\n",
    "### 1) Récupérez du TP1 les codes permettant de : \n",
    "#### - charger les données de TD\n",
    "#### - transformer un tableau de données et retourner à la fois les données transformées et leur matrice de covariance"
   ]
  },
  {
   "cell_type": "code",
   "execution_count": 40,
   "metadata": {},
   "outputs": [
    {
     "name": "stdout",
     "output_type": "stream",
     "text": [
      "X =\n",
      " [[ 3. -1.]\n",
      " [-1.  2.]\n",
      " [ 4.  2.]]\n",
      "[[ 4.66666667 -1.        ]\n",
      " [-1.          2.        ]]\n"
     ]
    }
   ],
   "source": [
    "import numpy as np\n",
    "X = np.loadtxt(\"td1.txt\")\n",
    "print(\"X =\\n\",X)\n",
    "\n",
    "def standardize(data,scale=False):\n",
    "    n = len(data)\n",
    "    p = len(data[1])\n",
    "    id = np.eye(n)\n",
    "    D = id/n\n",
    "\n",
    "    xbar = data.mean(axis=0)\n",
    "    Xp = data - xbar\n",
    "\n",
    "    V = np.transpose(Xp).dot(D).dot(Xp)\n",
    "    if scale == True:\n",
    "        Xs = Xp / np.sqrt(np.diag(V))\n",
    "\n",
    "        R = np.transpose(Xs).dot(D).dot(Xs)\n",
    "\n",
    "        return (Xs,R)\n",
    "    else:\n",
    "        return (Xp,V)\n",
    "\n",
    "[Xp,V] = standardize(X,scale=False)\n",
    "\n",
    "print(V)"
   ]
  },
  {
   "cell_type": "markdown",
   "metadata": {},
   "source": []
  },
  {
   "cell_type": "markdown",
   "metadata": {},
   "source": [
    "### 2) Solution de l'ACP\n",
    "#### 2.1) En vous inspirant du TD, écrivez les lignes de code correspondant aux étapes nécessaires à l'obtention : \n",
    "#### - des vecteurs et valeurs propres solution du problème ; pour cela vous utiliserez la méthode *eig* de *numpy.linalg*\n",
    "#### - du tableau des composantes principales. "
   ]
  },
  {
   "cell_type": "code",
   "execution_count": 13,
   "metadata": {},
   "outputs": [
    {
     "name": "stdout",
     "output_type": "stream",
     "text": [
      "[5.         1.66666667]\n",
      "[[-0.9486833  -0.31622777]\n",
      " [ 0.31622777 -0.9486833 ]]\n"
     ]
    }
   ],
   "source": [
    "from numpy.linalg import eig\n",
    "\n",
    "[L,U] = eig(V)\n",
    "print(L)\n",
    "U = -U\n",
    "print(U)"
   ]
  },
  {
   "cell_type": "markdown",
   "metadata": {},
   "source": [
    "#### 2.2) Reportez ce code dans une fonction *acpcanonique* ayant un seul argument d'entrée (lequel?) et pour seuls arguments de sortie (lesquels?) ceux nécessaires à l'Analyse (individus, variables) proprement dite des composantes."
   ]
  },
  {
   "cell_type": "code",
   "execution_count": 20,
   "metadata": {},
   "outputs": [
    {
     "data": {
      "text/plain": [
       "array([[-1.58113883e+00,  1.58113883e+00],\n",
       "       [ 3.16227766e+00, -1.11022302e-16],\n",
       "       [-1.58113883e+00, -1.58113883e+00]])"
      ]
     },
     "execution_count": 20,
     "metadata": {},
     "output_type": "execute_result"
    }
   ],
   "source": [
    "def acpcanonique(processed_data,cov_data):\n",
    "    [eigen_values,eigen_vectors] = eig(cov_data)\n",
    "    eigen_vectors = - eigen_vectors\n",
    "    components = np.dot(processed_data,eigen_vectors)\n",
    "    return components, eigen_values, eigen_vectors\n",
    "\n",
    "Cp,L,U = acpcanonique(Xp,V)\n",
    "\n",
    "Cp"
   ]
  },
  {
   "cell_type": "markdown",
   "metadata": {},
   "source": [
    "### 3) Analyse des Composantes Principales\n",
    "#### 3.1) En vous inspirant du TD, écrivez les lignes de code correspondant aux étapes nécessaires à l'analyse individus/variables des composantes principales."
   ]
  },
  {
   "cell_type": "code",
   "execution_count": 62,
   "metadata": {},
   "outputs": [
    {
     "name": "stdout",
     "output_type": "stream",
     "text": [
      "[[-7.07106781e-01  7.07106781e-01]\n",
      " [ 1.00000000e+00 -3.51083347e-17]\n",
      " [-7.07106781e-01 -7.07106781e-01]]\n"
     ]
    }
   ],
   "source": [
    "Cs = Cp / np.sqrt(L)\n",
    "\n",
    "# TP1\n",
    "D = 1/n*np.eye(n)\n",
    "Xb = np.mean(X,axis=0)\n",
    "Xc = X-Xb\n",
    "V = np.transpose(Xc).dot(D).dot(Xc)\n",
    "Xs = Xc/np.sqrt(np.diag(V))\n",
    "#\n",
    "\n",
    "cosvar = Cs.T.dot(D).dot(Xs)\n",
    "cosvar = cosvar.T\n",
    "#print(cosvar)\n",
    "\n",
    "cosind = Cp.T/np.sqrt(np.diag(np.dot(Xp,Xp.T)))\n",
    "cosind = cosind.T\n",
    "cosind**2\n",
    "print(cosind)"
   ]
  },
  {
   "cell_type": "markdown",
   "metadata": {},
   "source": [
    "#### 3.2) Reportez ce code dans une fonction ayant pour arguments de sortie nécessaires à l'Analyse (individus, variables) proprement dite des composantes."
   ]
  },
  {
   "cell_type": "code",
   "execution_count": null,
   "metadata": {},
   "outputs": [],
   "source": []
  },
  {
   "cell_type": "markdown",
   "metadata": {},
   "source": [
    "### 4) Réalisez l'Analyse en Composantes Principales des données \"terminale\""
   ]
  },
  {
   "cell_type": "code",
   "execution_count": null,
   "metadata": {},
   "outputs": [],
   "source": []
  },
  {
   "cell_type": "code",
   "execution_count": null,
   "metadata": {},
   "outputs": [],
   "source": []
  },
  {
   "cell_type": "markdown",
   "metadata": {},
   "source": [
    "### 5) Réalisez l'Analyse en Composantes Principales des données \"films\"."
   ]
  },
  {
   "cell_type": "code",
   "execution_count": null,
   "metadata": {},
   "outputs": [],
   "source": []
  },
  {
   "cell_type": "markdown",
   "metadata": {},
   "source": [
    "## Pour les plus rapides... \n",
    "## - reconstruction ?\n",
    "## - quelle compression ? "
   ]
  },
  {
   "cell_type": "code",
   "execution_count": null,
   "metadata": {},
   "outputs": [],
   "source": []
  }
 ],
 "metadata": {
  "kernelspec": {
   "display_name": "Python 3",
   "language": "python",
   "name": "python3"
  },
  "language_info": {
   "codemirror_mode": {
    "name": "ipython",
    "version": 3
   },
   "file_extension": ".py",
   "mimetype": "text/x-python",
   "name": "python",
   "nbconvert_exporter": "python",
   "pygments_lexer": "ipython3",
   "version": "3.6.8"
  }
 },
 "nbformat": 4,
 "nbformat_minor": 2
}
