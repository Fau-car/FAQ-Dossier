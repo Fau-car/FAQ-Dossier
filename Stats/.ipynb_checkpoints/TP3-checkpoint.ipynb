{
 "cells": [
  {
   "cell_type": "markdown",
   "metadata": {},
   "source": [
    "# Analyse de Données - Développeur\n",
    "## TP3 : Classification Non Supervisée (Clustering)\n",
    "### 0) Tableau de Données *Logiciels de ML* \n",
    "#### 0.1) Exécutez le code ci-dessous qui permet de lire un fichier de type tableur."
   ]
  },
  {
   "cell_type": "code",
   "execution_count": null,
   "metadata": {},
   "outputs": [],
   "source": [
    "import numpy as np\n",
    "import pandas as pd\n",
    "df = pd.read_excel(\"../Data/MLlogiciel.xlsx\")\n",
    "df"
   ]
  },
  {
   "cell_type": "markdown",
   "metadata": {},
   "source": [
    "#### 0.2) A quoi sert le code ci-dessous ?"
   ]
  },
  {
   "cell_type": "code",
   "execution_count": null,
   "metadata": {},
   "outputs": [],
   "source": [
    "T = df.iloc[5:,1:4].values\n",
    "n,p = np.shape(T)\n",
    "logiciel = df.iloc[5:,0].values"
   ]
  },
  {
   "cell_type": "markdown",
   "metadata": {},
   "source": [
    "### 1) Calcul de Distances.\n",
    "#### 1.1) Ecrivez une fonction *dist* permetant de calculer la distance de Manhattan (ou Cityblock), euclidienne (*euclidean*, distance par défaut), de Chebychev (ou Chebyshev), et Cosinus, entre deux points $x$ et $y$.\n",
    "#### 1.2) Utilisez-la pour retrouver quelques résultats du TD3."
   ]
  },
  {
   "cell_type": "code",
   "execution_count": null,
   "metadata": {},
   "outputs": [],
   "source": [
    "def dist(x,y,dname='euclidean'):\n",
    "    if (dname == 'manhattan') or (dname == 'cityblock'):\n",
    "#\n",
    "    elif \n",
    "#\n",
    "#\n",
    "#\n",
    "#\n",
    "#\n",
    "#\n",
    "    else:\n",
    "        d = \n",
    "    return d"
   ]
  },
  {
   "cell_type": "markdown",
   "metadata": {},
   "source": [
    "### 2) Ecrivez une fonction *prototyping(data,partition)* de *représentation* des clusters d'un tableau de données *data* décrit par une indicatrice de *partition*.\n",
    "### Vous la testerez sur les données du tableau *T*  pour l'indicatrice *Y* ci-dessous afin de retrouver les résultats du TD3."
   ]
  },
  {
   "cell_type": "code",
   "execution_count": null,
   "metadata": {},
   "outputs": [],
   "source": [
    "Y = [3,2,3,1,1]\n",
    "\n",
    "def prototyping(data,partition):\n",
    "    clust_id = np.unique(partition)\n",
    "    clust_nb = len(clust_id)\n",
    "#\n",
    "#\n",
    "    for i in range(clust_nb):\n",
    "#\n",
    "    return centroids"
   ]
  },
  {
   "cell_type": "markdown",
   "metadata": {},
   "source": [
    "### 3) Ecrivez une fonction *clustering(data,centroids,dname)* d'*affectation* des données d'un tableau *data* à des *clusters* au sens de la distance *dname* (euclidienne par défaut) au plus proche des *centroids*. \n",
    "### Vous la testerez sur les données du tableau *T* et les *centroids* obtenus à la question précédente afin de retrouver les résultats du TD3."
   ]
  },
  {
   "cell_type": "code",
   "execution_count": null,
   "metadata": {},
   "outputs": [],
   "source": [
    "def clustering(data,centroids,dname='eulidean'):\n",
    "#\n",
    "#\n",
    "#\n",
    "    for k in range(n):\n",
    "        for i in range(c):\n",
    "#\n",
    "#\n",
    "#"
   ]
  },
  {
   "cell_type": "markdown",
   "metadata": {},
   "source": [
    "### 4) Que représente l'enchaînement des questions 2) et 3) en termes d'algorithme des classification non supervisée ? "
   ]
  },
  {
   "cell_type": "markdown",
   "metadata": {},
   "source": [
    "### 5) Codez l'algorithme *C-means* dans une fonction *cmeans(data,c,maxiter=50,eps=0.001)* qui appellera les fonctions *clustering* et *prototyping* de sorte de réaliser l'algorithme des *C-means*.\n",
    "### L'initialisation sera réalisée en choisissant aléatoirement *c* points du tableau *data* à l'aide la fonction *random.permutation* de *numpy*.\n",
    "### Vous la testerez sur les données du tableau *T* afin de retrouver les résultats du TD3."
   ]
  },
  {
   "cell_type": "code",
   "execution_count": null,
   "metadata": {},
   "outputs": [],
   "source": [
    "def cmeans(data,c,dname='eulidean',maxiter=50,eps=0.001):\n",
    "#\n",
    "#\n",
    "#\n",
    "    iter=0\n",
    "    stop = False\n",
    "    while iter<maxiter or (not stop):\n",
    "#\n",
    "#\n",
    "#\n",
    "#\n",
    "#\n",
    "#\n",
    "    return newcentroids, newpartition"
   ]
  },
  {
   "cell_type": "markdown",
   "metadata": {},
   "source": [
    "### 6) Modifiez la fonction précédente de sorte qu'elle retourne aussi la valeur de l'inertie intra-classes de la partition finale. \n",
    "### Vous la testerez sur les données du tableau *T* afin de retrouver les résultats du TD3."
   ]
  },
  {
   "cell_type": "code",
   "execution_count": null,
   "metadata": {},
   "outputs": [],
   "source": []
  }
 ],
 "metadata": {
  "kernelspec": {
   "display_name": "Python 3",
   "language": "python",
   "name": "python3"
  },
  "language_info": {
   "codemirror_mode": {
    "name": "ipython",
    "version": 3
   },
   "file_extension": ".py",
   "mimetype": "text/x-python",
   "name": "python",
   "nbconvert_exporter": "python",
   "pygments_lexer": "ipython3",
   "version": "3.6.8"
  }
 },
 "nbformat": 4,
 "nbformat_minor": 2
}
